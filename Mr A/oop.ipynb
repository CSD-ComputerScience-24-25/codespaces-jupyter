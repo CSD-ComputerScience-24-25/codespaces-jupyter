{
 "cells": [
  {
   "cell_type": "code",
   "execution_count": null,
   "metadata": {},
   "outputs": [],
   "source": [
    "class Dog:\n",
    "    def __init__(self, name:str, breed:str, color:str, age:int, weight:float) -> None:\n",
    "        self.name = name\n",
    "        self.breed = breed\n",
    "        self.color = color\n",
    "        self.age = age\n",
    "        self.weight = weight\n",
    "\n",
    "    def getAttributes(self) -> dict:\n",
    "        return {'Name': self.name,\n",
    "                'Breed': self.breed,\n",
    "                'Color': self.color,\n",
    "                'Age' : self.age,\n",
    "                'Weight': self.weight}\n",
    "    \n",
    "    def speak(self) -> None:\n",
    "        print(\"BARK!\")\n"
   ]
  },
  {
   "cell_type": "code",
   "execution_count": 13,
   "metadata": {},
   "outputs": [
    {
     "name": "stdout",
     "output_type": "stream",
     "text": [
      "Name: Cosmo\n",
      "Breed: Golden Retriever\n",
      "Color: Reddish Gold\n",
      "Age: 1\n",
      "Weight: 75.5\n",
      "BARK!\n"
     ]
    }
   ],
   "source": [
    "my_dog = Dog(\"Cosmo\", \"Golden Retriever\", \"Reddish Gold\", 1, 75.5)\n",
    "#print(type(my_dog.getAttributes()))\n",
    "for k, v in my_dog.getAttributes().items():\n",
    "    print(k+': '+ str(v))\n",
    "\n",
    "my_dog.speak()"
   ]
  }
 ],
 "metadata": {
  "kernelspec": {
   "display_name": "Python 3",
   "language": "python",
   "name": "python3"
  },
  "language_info": {
   "codemirror_mode": {
    "name": "ipython",
    "version": 3
   },
   "file_extension": ".py",
   "mimetype": "text/x-python",
   "name": "python",
   "nbconvert_exporter": "python",
   "pygments_lexer": "ipython3",
   "version": "3.12.1"
  }
 },
 "nbformat": 4,
 "nbformat_minor": 2
}
