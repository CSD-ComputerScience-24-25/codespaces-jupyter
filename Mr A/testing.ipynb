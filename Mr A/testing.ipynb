{
 "cells": [
  {
   "cell_type": "markdown",
   "metadata": {},
   "source": [
    "### Testing File"
   ]
  },
  {
   "cell_type": "code",
   "execution_count": 2,
   "metadata": {},
   "outputs": [
    {
     "name": "stdout",
     "output_type": "stream",
     "text": [
      "[(20, 'c'), (5, 'b'), (1, 'a')]\n"
     ]
    }
   ],
   "source": [
    "my_dictionary = {\"a\" : 1,\n",
    "                 \"b\" : 5,\n",
    "                 \"c\" : 20}\n",
    "\n",
    "print(sorted([ (v,k) for k,v in my_dictionary.items()], reverse=True))"
   ]
  },
  {
   "cell_type": "code",
   "execution_count": 4,
   "metadata": {},
   "outputs": [
    {
     "name": "stdout",
     "output_type": "stream",
     "text": [
      "[(195, 'zqian@umich.edu'), (161, 'mmmay@indiana.edu'), (158, 'cwen@iupui.edu'), (111, 'chmaurer@iupui.edu'), (110, 'aaronz@vt.edu'), (96, 'ian@caret.cam.ac.uk'), (93, 'jimeng@umich.edu'), (90, 'rjlowe@iupui.edu'), (84, 'dlhaines@umich.edu'), (67, 'david.horwitz@uct.ac.za'), (48, 'ajpoland@iupui.edu'), (44, 'wagnermr@iupui.edu'), (44, 'gjthomas@iupui.edu'), (43, 'sgithens@caret.cam.ac.uk'), (32, 'ray@media.berkeley.edu'), (29, 'stephen.marquard@uct.ac.za'), (28, 'nuno@ufp.pt'), (28, 'josrodri@iupui.edu'), (28, 'gsilver@umich.edu'), (27, 'bkirschn@umich.edu'), (27, 'arwhyte@umich.edu'), (25, 'gopal.ramasammycook@gmail.com'), (24, 'louis@media.berkeley.edu'), (19, 'csev@umich.edu'), (18, 'antranig@caret.cam.ac.uk'), (17, 'zach.thomas@txstate.edu'), (17, 'stuart.freeman@et.gatech.edu'), (17, 'ostermmg@whitman.edu'), (14, 'kimsooil@bu.edu'), (14, 'a.fish@lancaster.ac.uk'), (12, 'ktsao@stanford.edu'), (9, 'mbreuker@loi.nl'), (9, 'jzaremba@unicon.net'), (8, 'lance@indiana.edu'), (8, 'john.ellis@rsmart.com'), (8, 'ggolden@umich.edu'), (7, 'hu2@iupui.edu'), (6, 'tnguyen@iupui.edu'), (5, 'ssmail@indiana.edu'), (5, 'knoop@umich.edu'), (4, 'bahollad@indiana.edu'), (3, 'gbhatnag@umich.edu'), (2, 'jleasia@umich.edu'), (1, 'thoppaymallika@fhda.edu'), (1, 'jlrenfro@ucdavis.edu'), (1, 'colin.clark@utoronto.ca')]\n"
     ]
    }
   ],
   "source": [
    "fhand = open(\"mbox.txt\")\n",
    "counts = {}\n",
    "for line in fhand:\n",
    "    if line.startswith(\"From \"):\n",
    "        line = line.split()\n",
    "        counts[line[1]] = counts.get(line[1], 0) + 1\n",
    "\n",
    "print(sorted([(v,k) for k,v in counts.items()], reverse=True))"
   ]
  }
 ],
 "metadata": {
  "kernelspec": {
   "display_name": "Python 3",
   "language": "python",
   "name": "python3"
  },
  "language_info": {
   "codemirror_mode": {
    "name": "ipython",
    "version": 3
   },
   "file_extension": ".py",
   "mimetype": "text/x-python",
   "name": "python",
   "nbconvert_exporter": "python",
   "pygments_lexer": "ipython3",
   "version": "3.12.1"
  }
 },
 "nbformat": 4,
 "nbformat_minor": 2
}
