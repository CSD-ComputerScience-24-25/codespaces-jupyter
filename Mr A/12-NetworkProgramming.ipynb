{
 "cells": [
  {
   "cell_type": "markdown",
   "metadata": {},
   "source": [
    "##### Exercise 1: Change the socket program socket1.py to prompt the user for the URL so it can read any web page.\n",
    "\n",
    "You can use split('/') to break the URL into its component parts so you can extract the host name for the socket connect call. Add error checking using try and except to handle the condition where the user enters an improperly formatted or non-existent URL."
   ]
  },
  {
   "cell_type": "code",
   "execution_count": null,
   "metadata": {},
   "outputs": [
    {
     "ename": "gaierror",
     "evalue": "[Errno -5] No address associated with hostname",
     "output_type": "error",
     "traceback": [
      "\u001b[0;31m---------------------------------------------------------------------------\u001b[0m",
      "\u001b[0;31mgaierror\u001b[0m                                  Traceback (most recent call last)",
      "Cell \u001b[0;32mIn[10], line 4\u001b[0m\n\u001b[1;32m      1\u001b[0m \u001b[38;5;28;01mimport\u001b[39;00m \u001b[38;5;21;01msocket\u001b[39;00m\n\u001b[1;32m      3\u001b[0m mysock \u001b[38;5;241m=\u001b[39m socket\u001b[38;5;241m.\u001b[39msocket(socket\u001b[38;5;241m.\u001b[39mAF_INET, socket\u001b[38;5;241m.\u001b[39mSOCK_STREAM)\n\u001b[0;32m----> 4\u001b[0m \u001b[43mmysock\u001b[49m\u001b[38;5;241;43m.\u001b[39;49m\u001b[43mconnect\u001b[49m\u001b[43m(\u001b[49m\u001b[43m(\u001b[49m\u001b[38;5;124;43m'\u001b[39;49m\u001b[38;5;124;43mdata.pr4e.gov\u001b[39;49m\u001b[38;5;124;43m'\u001b[39;49m\u001b[43m,\u001b[49m\u001b[43m \u001b[49m\u001b[38;5;241;43m80\u001b[39;49m\u001b[43m)\u001b[49m\u001b[43m)\u001b[49m\n\u001b[1;32m      5\u001b[0m cmd \u001b[38;5;241m=\u001b[39m \u001b[38;5;124m'\u001b[39m\u001b[38;5;124mGET http://data.pr4e.oo.txt HTTP/1.0\u001b[39m\u001b[38;5;130;01m\\r\u001b[39;00m\u001b[38;5;130;01m\\n\u001b[39;00m\u001b[38;5;130;01m\\r\u001b[39;00m\u001b[38;5;130;01m\\n\u001b[39;00m\u001b[38;5;124m'\u001b[39m\u001b[38;5;241m.\u001b[39mencode()\n\u001b[1;32m      6\u001b[0m mysock\u001b[38;5;241m.\u001b[39msend(cmd)\n",
      "\u001b[0;31mgaierror\u001b[0m: [Errno -5] No address associated with hostname"
     ]
    }
   ],
   "source": [
    "import socket\n",
    "\n",
    "mysock = socket.socket(socket.AF_INET, socket.SOCK_STREAM)\n",
    "mysock.connect(('data.pr4e.org', 80))\n",
    "cmd = 'GET http://data.pr4e.org/romeo.txt HTTP/1.0\\r\\n\\r\\n'.encode()\n",
    "mysock.send(cmd)\n",
    "\n",
    "while True:\n",
    "    data = mysock.recv(512)\n",
    "    if len(data) < 1:\n",
    "        break\n",
    "    print(data.decode(),end='')\n",
    "\n",
    "mysock.close()"
   ]
  },
  {
   "cell_type": "markdown",
   "metadata": {},
   "source": [
    "##### Exercise 2: Change your socket program so that it counts the number of characters it has received and stops displaying any text after it has shown 3000 characters. The program should retrieve the entire document and count the total number of characters and display the count of the number of characters at the end of the document."
   ]
  },
  {
   "cell_type": "code",
   "execution_count": 5,
   "metadata": {},
   "outputs": [
    {
     "name": "stdout",
     "output_type": "stream",
     "text": [
      "HTTP/1.1 200 OK\n",
      "Date: Wed, 30 Oct 2024 15:40:33 GMT\n",
      "Server: Apache\n",
      "Last-Modified: Fri, 12 Jun 1992 18:32:43 GMT\n",
      "ETag: \"122b-284432a6ec8c0\"\n",
      "Accept-Ranges: bytes\n",
      "Content-Length: 4651\n",
      "Connection: close\n",
      "Content-Type: text/html\n",
      "\n",
      "<TITLE>Summary -- /WWW</TITLE>\n",
      "<NEXTID 7>\n",
      "<H1>WorldWideWeb - Summary</H1>The <A NAME=6 HREF=TheProject.html>WWW</A> project merges the techniques of information retrieval and\n",
      "hypertext to make an easy but powerful global information system.<P>\n",
      "The project is based on the philosophy that much academic information\n",
      "should be freely available to anyone. It aims to allow information\n",
      "sharing within internationally dispersed teams, and the dissemination\n",
      "of information by support groups.  Originally aimed at the High Energy\n",
      "Physics community, it has spread to other areas and attracted much\n",
      "interest in user support, resource discovery and collaborative work\n",
      "areas.\n",
      "<H3>Reader view</H3>The WWW world consists of documents, and links.  Indexes are special\n",
      "documents which, rather than being read, may be searched. The result\n",
      "of such a search is another (\"virtual\") document containing links\n",
      "to the documents found.  A simple protocol (\"<A NAME=3 HREF=Protocols/HTTP/AsImplemented.html> HTTP</A> \") is used to allow\n",
      "a browser program to request a keyword search by a remote information\n",
      "server. <P>\n",
      "The web contains documents in many formats. Those documents which\n",
      "are hypertext,  (real or virtual) contain links to other documents,\n",
      "or places within documents. All documents, whether real, virtual or\n",
      "indexes, look similar to the reader and are contained within the same\n",
      "addressing scheme.<P>\n",
      "To follow a link,  a reader clicks with a mouse (or types in a number\n",
      "if he or she has no mouse). To search and index, a reader gives keywords\n",
      "(or other search criteria). These are the only operations  necessary\n",
      "to access the entire world of data.\n",
      "<H3>Information provider view</H3>The WWW browsers can access many existing data systems via existing\n",
      "protocols (FTP, NNTP) or via HTTP and a gateway. In this way, the\n",
      "critical mass of data is quickly exceeded, and the increasing use\n",
      "of the system by readers and information suppliers encourage each\n",
      "other.<P>\n",
      "Making a web is as simple as writing a few <A NAME=1 HREF=MarkUp/MarkUp.html>SGML</A> files which point\n",
      "to your existing data. Making it public involves running the FTP or\n",
      "HTTP <A NAME=2 HREF=Daemon/Overview.html>daemon</A> , and making at least one link into your web from another.\n",
      "In fact,  any file available by anonymous FTP can be immediately linked\n",
      "into a web. The very small start-up effort is designed to allow small\n",
      "contributions.  At the other end of the scale, large information providers\n",
      "may provide an HTTP server with full text or keyword indexing. This\n",
      "may allow access to a large existing database without changing the\n",
      "way that database is managed. Such gateways have already been made\n",
      "into Digital's VMS/Help, Technical Univerity of Graz's \"Hyper-G\",\n",
      "and Thinking Machine's \"W.A.I.S.\" systems.<P>\n",
      "The WWW3001\n"
     ]
    }
   ],
   "source": [
    "import socket\n",
    "\n",
    "mysock = socket.socket(socket.AF_INET, socket.SOCK_STREAM)\n",
    "user_input = input(\"Enter a URL: \")\n",
    "mysock.connect((user_input.split('/')[2], 80))\n",
    "cmd = 'GET '+user_input+' HTTP/1.0\\r\\n\\r\\n'\n",
    "mysock.send(cmd.encode())\n",
    "count = 0\n",
    "\n",
    "while True:\n",
    "    data = mysock.recv(1)\n",
    "    \n",
    "    if len(data) < 1 or count > 3000:\n",
    "        \n",
    "        break\n",
    "    print(data.decode(),end='')\n",
    "    count += 1\n",
    "    \n",
    "mysock.close()\n",
    "print(count)"
   ]
  }
 ],
 "metadata": {
  "kernelspec": {
   "display_name": "Python 3",
   "language": "python",
   "name": "python3"
  },
  "language_info": {
   "codemirror_mode": {
    "name": "ipython",
    "version": 3
   },
   "file_extension": ".py",
   "mimetype": "text/x-python",
   "name": "python",
   "nbconvert_exporter": "python",
   "pygments_lexer": "ipython3",
   "version": "3.12.1"
  }
 },
 "nbformat": 4,
 "nbformat_minor": 2
}
