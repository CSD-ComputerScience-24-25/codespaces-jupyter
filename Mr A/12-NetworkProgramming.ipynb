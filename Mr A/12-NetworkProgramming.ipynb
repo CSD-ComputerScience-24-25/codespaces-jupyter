{
 "cells": [
  {
   "cell_type": "markdown",
   "metadata": {},
   "source": [
    "##### Exercise 1: Change the socket program socket1.py to prompt the user for the URL so it can read any web page.\n",
    "\n",
    "You can use split('/') to break the URL into its component parts so you can extract the host name for the socket connect call. Add error checking using try and except to handle the condition where the user enters an improperly formatted or non-existent URL."
   ]
  },
  {
   "cell_type": "code",
   "execution_count": 1,
   "metadata": {},
   "outputs": [
    {
     "name": "stdout",
     "output_type": "stream",
     "text": [
      "HTTP/1.1 200 OK\n",
      "Date: Wed, 30 Oct 2024 15:07:19 GMT\n",
      "Server: Apache/2.4.52 (Ubuntu)\n",
      "Last-Modified: Sat, 13 May 2017 11:22:22 GMT\n",
      "ETag: \"a7-54f6609245537\"\n",
      "Accept-Ranges: bytes\n",
      "Content-Length: 167\n",
      "Cache-Control: max-age=0, no-cache, no-store, must-revalidate\n",
      "Pragma: no-cache\n",
      "Expires: Wed, 11 Jan 1984 05:00:00 GMT\n",
      "Connection: close\n",
      "Content-Type: text/plain\n",
      "\n",
      "But soft what light through yonder window breaks\n",
      "It is the east and Juliet is the sun\n",
      "Arise fair sun and kill the envious moon\n",
      "Who is already sick and pale with grief\n"
     ]
    }
   ],
   "source": [
    "import socket\n",
    "\n",
    "mysock = socket.socket(socket.AF_INET, socket.SOCK_STREAM)\n",
    "mysock.connect(('data.pr4e.org', 80))\n",
    "cmd = 'GET http://data.pr4e.org/romeo.txt HTTP/1.0\\r\\n\\r\\n'.encode()\n",
    "mysock.send(cmd)\n",
    "\n",
    "while True:\n",
    "    data = mysock.recv(512)\n",
    "    if len(data) < 1:\n",
    "        break\n",
    "    print(data.decode(),end='')\n",
    "\n",
    "mysock.close()"
   ]
  },
  {
   "cell_type": "markdown",
   "metadata": {},
   "source": [
    "##### Exercise 2: Change your socket program so that it counts the number of characters it has received and stops displaying any text after it has shown 3000 characters. The program should retrieve the entire document and count the total number of characters and display the count of the number of characters at the end of the document."
   ]
  },
  {
   "cell_type": "code",
   "execution_count": 8,
   "metadata": {},
   "outputs": [
    {
     "name": "stdout",
     "output_type": "stream",
     "text": [
      "HTTP/1.1 200 OK\n",
      "Date: Wed, 30 Oct 2024 15:19:44 GMT\n",
      "Server: Apache\n",
      "Last-Modified: Fri, 12 Jun 1992 18:32:43 GMT\n",
      "ETag: \"122b-284432a6ec8c0\"\n",
      "Accept-Ranges: bytes\n",
      "Content-Length: 4651\n",
      "Connection: close\n",
      "Content-Type: text/html\n",
      "\n",
      "<TITLE>Summary -- /WWW</TITLE>\n",
      "<NEXTID 7>\n",
      "<H1>WorldWideWeb - Summary</H1>The <A NAME=6 HREF=TheProject.html>WWW</A> project merges the techniques of information retrieval and\n",
      "hypertext to make an easy but powerful global information system.<P>\n",
      "The project is based on the philosophy that much academic information\n",
      "should be freely available to anyone. It aims to allow information\n",
      "sharing within internationally dispersed teams, and the dissemination\n",
      "of information by support groups.  Originally aimed at the High Energy\n",
      "Physics community, it has spread to other areas and attracted much\n",
      "interest in user support, resource discovery and collaborative work\n",
      "areas.\n",
      "<H3>Reader view</H3>The WWW world consists of documents, and links.  Indexes are special\n",
      "documents which, rather than being read, may be searched. The result\n",
      "of such a search is another (\"virtual\") document containing links\n",
      "to the documents found.  A simple protocol (\"<A NAME=3 HREF=Protocols/HTTP/AsImplemented.html> HTTP</A> \") is used to allow\n",
      "a browser program to request a keyword search by a remote information\n",
      "server. <P>\n",
      "The web contains documents in many formats. Those documents which\n",
      "are hypertext,  (real or virtual) contain links to other documents,\n",
      "or places within documents. All documents, whether real, virtual or\n",
      "indexes, look similar to the reader and are contained within the same\n",
      "addressing scheme.<P>\n",
      "To follow a link,  a reader clicks with a mouse (or types in a number\n",
      "if he or she has no mouse). To search and index, a reader gives keywords\n",
      "(or other search criteria). These are the only operations  necessary\n",
      "to access the entire world of data.\n",
      "<H3>Information provider view</H3>The WWW browsers can access many existing data systems via existing\n",
      "protocols (FTP, NNTP) or via HTTP and a gateway. In this way, the\n",
      "critical mass of data is quickly exceeded, and the increasing use\n",
      "of the system by readers and information suppliers encourage each\n",
      "other.<P>\n",
      "Making a web is as simple as writing a few <A NAME=1 HREF=MarkUp/MarkUp.html>SGML</A> files which point\n",
      "to your existing data. Making it public involves running the FTP or\n",
      "HTTP <A NAME=2 HREF=Daemon/Overview.html>daemon</A> , and making at least one link into your web from another.\n",
      "In fact,  any file available by anonymous FTP can be immediately linked\n",
      "into a web. The very small start-up effort is designed to allow small\n",
      "contributions.  At the other end of the scale, large information providers\n",
      "may provide an HTTP server with full text or keyword indexing. This\n",
      "may allow access to a large existing database without changing the\n",
      "way that database is managed. Such gateways have already been made\n",
      "into Digital's VMS/Help, Technical Univerity of Graz's \"Hyper-G\",\n",
      "and Thinking Machine's \"W.A.I.S.\" systems.<P>\n",
      "The WWW model gets over the frustrating incompatibilities of data\n",
      "format between suppliers and reader by allowing negotiation of format\n",
      "between a smart browser and a smart server. This should provide a\n",
      "basis for extension into multimedia, and allow those who share application\n",
      "standards to make full use of them across the web.<P>\n",
      "This summary does not describe the many exciting possibilities opened\n",
      "up by the WWW project, such as efficient document caching. the reduction\n",
      "of redundant out-of-date copies, and the use of knowledge daemons.\n",
      "There is more information in the online project documentation, including\n",
      "some background on hypertext and many technical notes. \n",
      "<H3>Try it</H3>You can try the simple <A NAME=4 HREF=LineMode/Browser.html>line mode browser</A>  by telnetting to info.cern.ch\n",
      " (no user or password. From UK JANET, use the\n",
      "<a href=JANETAccess.html>Gateway</a>).\n",
      "You can also find out more about WWW in this\n",
      "way.  This is the least sophisticated browser -- remember that the\n",
      "window-oriented ones are much smarter!<P>\n",
      "It is much more efficient to install a browser on your own machine.\n",
      "The line mode browser is currently available in source form by anonymous\n",
      "FTP from node  info.cern.ch [currently 128.141.201.74] as\n",
      "<XMP>\t\t\t/pub/www/src/WWWLineMode_v.vv.tar.Z.\n",
      "\n",
      "</XMP>(v.vv is the version number - take the latest.) <P>\n",
      "Also available is a <A NAME=5 HREF=NeXT/WorldWideWeb.html>hypertext editor</A> for the NeXT (WWWNeXTStepEditor_v.vv.tar.Z),\n",
      "the ViolaWWW browser for X11,  and a skeleton server daemon (WWWDaemon_v.vv.tar.Z).\n",
      "<XMP>\n",
      "</XMP>Documentation is readable using www. A plain text version of the installation\n",
      "instructions is included in the tar file!  Printable (postscript)\n",
      "documentation and articles are in /pub/www/doc<P>\n",
      "_________________________________________________________________\n",
      "<ADDRESS><A NAME=0 HREF=../../WWW/disclaimer.html>Tim BL</A>\n",
      "</ADDRESS>"
     ]
    }
   ],
   "source": [
    "import socket\n",
    "\n",
    "mysock = socket.socket(socket.AF_INET, socket.SOCK_STREAM)\n",
    "mysock.connect(('info.cern.ch', 80))\n",
    "cmd = 'GET http://info.cern.ch/hypertext/WWW/Summary.html HTTP/1.0\\r\\n\\r\\n'.encode()\n",
    "mysock.send(cmd)\n",
    "\n",
    "while True:\n",
    "    data = mysock.recv(512)\n",
    "    if len(data) < 1:\n",
    "        break\n",
    "    print(data.decode(),end='')\n",
    "\n",
    "mysock.close()"
   ]
  }
 ],
 "metadata": {
  "kernelspec": {
   "display_name": "Python 3",
   "language": "python",
   "name": "python3"
  },
  "language_info": {
   "codemirror_mode": {
    "name": "ipython",
    "version": 3
   },
   "file_extension": ".py",
   "mimetype": "text/x-python",
   "name": "python",
   "nbconvert_exporter": "python",
   "pygments_lexer": "ipython3",
   "version": "3.12.1"
  }
 },
 "nbformat": 4,
 "nbformat_minor": 2
}
