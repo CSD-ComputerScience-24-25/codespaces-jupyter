{
 "cells": [
  {
   "cell_type": "markdown",
   "metadata": {},
   "source": [
    "##### Exercise 1: Change the socket program socket1.py to prompt the user for the URL so it can read any web page.\n",
    "\n",
    "You can use split('/') to break the URL into its component parts so you can extract the host name for the socket connect call. Add error checking using try and except to handle the condition where the user enters an improperly formatted or non-existent URL."
   ]
  },
  {
   "cell_type": "code",
   "execution_count": null,
   "metadata": {},
   "outputs": [
    {
     "ename": "gaierror",
     "evalue": "[Errno -5] No address associated with hostname",
     "output_type": "error",
     "traceback": [
      "\u001b[0;31m---------------------------------------------------------------------------\u001b[0m",
      "\u001b[0;31mgaierror\u001b[0m                                  Traceback (most recent call last)",
      "Cell \u001b[0;32mIn[10], line 4\u001b[0m\n\u001b[1;32m      1\u001b[0m \u001b[38;5;28;01mimport\u001b[39;00m \u001b[38;5;21;01msocket\u001b[39;00m\n\u001b[1;32m      3\u001b[0m mysock \u001b[38;5;241m=\u001b[39m socket\u001b[38;5;241m.\u001b[39msocket(socket\u001b[38;5;241m.\u001b[39mAF_INET, socket\u001b[38;5;241m.\u001b[39mSOCK_STREAM)\n\u001b[0;32m----> 4\u001b[0m \u001b[43mmysock\u001b[49m\u001b[38;5;241;43m.\u001b[39;49m\u001b[43mconnect\u001b[49m\u001b[43m(\u001b[49m\u001b[43m(\u001b[49m\u001b[38;5;124;43m'\u001b[39;49m\u001b[38;5;124;43mdata.pr4e.gov\u001b[39;49m\u001b[38;5;124;43m'\u001b[39;49m\u001b[43m,\u001b[49m\u001b[43m \u001b[49m\u001b[38;5;241;43m80\u001b[39;49m\u001b[43m)\u001b[49m\u001b[43m)\u001b[49m\n\u001b[1;32m      5\u001b[0m cmd \u001b[38;5;241m=\u001b[39m \u001b[38;5;124m'\u001b[39m\u001b[38;5;124mGET http://data.pr4e.oo.txt HTTP/1.0\u001b[39m\u001b[38;5;130;01m\\r\u001b[39;00m\u001b[38;5;130;01m\\n\u001b[39;00m\u001b[38;5;130;01m\\r\u001b[39;00m\u001b[38;5;130;01m\\n\u001b[39;00m\u001b[38;5;124m'\u001b[39m\u001b[38;5;241m.\u001b[39mencode()\n\u001b[1;32m      6\u001b[0m mysock\u001b[38;5;241m.\u001b[39msend(cmd)\n",
      "\u001b[0;31mgaierror\u001b[0m: [Errno -5] No address associated with hostname"
     ]
    }
   ],
   "source": [
    "import socket\n",
    "\n",
    "mysock = socket.socket(socket.AF_INET, socket.SOCK_STREAM)\n",
    "mysock.connect(('data.pr4e.org', 80))\n",
    "cmd = 'GET http://data.pr4e.org/romeo.txt HTTP/1.0\\r\\n\\r\\n'.encode()\n",
    "mysock.send(cmd)\n",
    "\n",
    "while True:\n",
    "    data = mysock.recv(512)\n",
    "    if len(data) < 1:\n",
    "        break\n",
    "    print(data.decode(),end='')\n",
    "\n",
    "mysock.close()"
   ]
  },
  {
   "cell_type": "markdown",
   "metadata": {},
   "source": [
    "##### Exercise 2: Change your socket program so that it counts the number of characters it has received and stops displaying any text after it has shown 3000 characters. The program should retrieve the entire document and count the total number of characters and display the count of the number of characters at the end of the document."
   ]
  },
  {
   "cell_type": "code",
   "execution_count": 1,
   "metadata": {},
   "outputs": [
    {
     "name": "stdout",
     "output_type": "stream",
     "text": [
      "HTTP/1.1 200 OK\n",
      "Date: Mon, 04 Nov 2024 16:11:29 GMT\n",
      "Server: Apache\n",
      "Last-Modified: Fri, 12 Jun 1992 18:32:43 GMT\n",
      "ETag: \"122b-284432a6ec8c0\"\n",
      "Accept-Ranges: bytes\n",
      "Content-Length: 4651\n",
      "Connection: close\n",
      "Content-Type: text/html\n",
      "\n",
      "<TITLE>Summary -- /WWW</TITLE>\n",
      "<NEXTID 7>\n",
      "<H1>WorldWideWeb - Summary</H1>The <A NAME=6 HREF=TheProject.html>WWW</A> project merges the techniques of information retrieval and\n",
      "hypertext to make an easy but powerful global information system.<P>\n",
      "The project is based on the philosophy that much academic information\n",
      "should be freely available to anyone. It aims to allow information\n",
      "sharing within internationally dispersed teams, and the dissemination\n",
      "of information by support groups.  Originally aimed at the High Energy\n",
      "Physics community, it has spread to other areas and attracted much\n",
      "interest in user support, resource discovery and collaborative work\n",
      "areas.\n",
      "<H3>Reader view</H3>The WWW world consists of documents, and links.  Indexes are special\n",
      "documents which, rather than being read, may be searched. The result\n",
      "of such a search is another (\"virtual\") document containing links\n",
      "to the documents found.  A simple protocol (\"<A NAME=3 HREF=Protocols/HTTP/AsImplemented.html> HTTP</A> \") is used to allow\n",
      "a browser program to request a keyword search by a remote information\n",
      "server. <P>\n",
      "The web contains documents in many formats. Those documents which\n",
      "are hypertext,  (real or virtual) contain links to other documents,\n",
      "or places within documents. All documents, whether real, virtual or\n",
      "indexes, look similar to the reader and are contained within the same\n",
      "addressing scheme.<P>\n",
      "To follow a link,  a reader clicks with a mouse (or types in a number\n",
      "if he or she has no mouse). To search and index, a reader gives keywords\n",
      "(or other search criteria). These are the only operations  necessary\n",
      "to access the entire world of data.\n",
      "<H3>Information provider view</H3>The WWW browsers can access many existing data systems via existing\n",
      "protocols (FTP, NNTP) or via HTTP and a gateway. In this way, the\n",
      "critical mass of data is quickly exceeded, and the increasing use\n",
      "of the system by readers and information suppliers encourage each\n",
      "other.<P>\n",
      "Making a web is as simple as writing a few <A NAME=1 HREF=MarkUp/MarkUp.html>SGML</A> files which point\n",
      "to your existing data. Making it public involves running the FTP or\n",
      "HTTP <A NAME=2 HREF=Daemon/Overview.html>daemon</A> , and making at least one link into your web from another.\n",
      "In fact,  any file available by anonymous FTP can be immediately linked\n",
      "into a web. The very small start-up effort is designed to allow small\n",
      "contributions.  At the other end of the scale, large information providers\n",
      "may provide an HTTP server with full text or keyword indexing. This\n",
      "may allow access to a large existing database without changing the\n",
      "way that database is managed. Such gateways have already been made\n",
      "into Digital's VMS/Help, Technical Univerity of Graz's \"Hyper-G\",\n",
      "and Thinking Machine's \"W.A.I.S.\" systems.<P>\n",
      "The WWW3001\n"
     ]
    }
   ],
   "source": [
    "import socket\n",
    "\n",
    "mysock = socket.socket(socket.AF_INET, socket.SOCK_STREAM)\n",
    "user_input = input(\"Enter a URL: \")\n",
    "mysock.connect((user_input.split('/')[2], 80))\n",
    "cmd = 'GET '+user_input+' HTTP/1.0\\r\\n\\r\\n'\n",
    "mysock.send(cmd.encode())\n",
    "count = 0\n",
    "\n",
    "while True:\n",
    "    data = mysock.recv(1)\n",
    "    \n",
    "    if len(data) < 1 or count > 3000:\n",
    "        \n",
    "        break\n",
    "    print(data.decode(),end='')\n",
    "    count += 1\n",
    "    \n",
    "mysock.close()\n",
    "print(count)"
   ]
  },
  {
   "cell_type": "markdown",
   "metadata": {},
   "source": [
    "##### Exercise 3: Use urllib to replicate the previous exercise of (1) retrieving the document from a URL, (2) displaying up to 3000 characters, and (3) counting the overall number of characters in the document. Don’t worry about the headers for this exercise, simply show the first 3000 characters of the document contents."
   ]
  },
  {
   "cell_type": "code",
   "execution_count": 3,
   "metadata": {},
   "outputs": [
    {
     "name": "stdout",
     "output_type": "stream",
     "text": [
      "b'<TITLE>Summary -- /WWW</TITLE>\\n'\n",
      "b'<NEXTID 7>\\n'\n",
      "b'<H1>WorldWideWeb - Summary</H1>The <A NAME=6 HREF=TheProject.html>WWW</A> project merges the techniques of information retrieval and\\n'\n",
      "b'hypertext to make an easy but powerful global information system.<P>\\n'\n",
      "b'The project is based on the philosophy that much academic information\\n'\n",
      "b'should be freely available to anyone. It aims to allow information\\n'\n",
      "b'sharing within internationally dispersed teams, and the dissemination\\n'\n",
      "b'of information by support groups.  Originally aimed at the High Energy\\n'\n",
      "b'Physics community, it has spread to other areas and attracted much\\n'\n",
      "b'interest in user support, resource discovery and collaborative work\\n'\n",
      "b'areas.\\n'\n",
      "b'<H3>Reader view</H3>The WWW world consists of documents, and links.  Indexes are special\\n'\n",
      "b'documents which, rather than being read, may be searched. The result\\n'\n",
      "b'of such a search is another (\"virtual\") document containing links\\n'\n",
      "b'to the documents found.  A simple protocol (\"<A NAME=3 HREF=Protocols/HTTP/AsImplemented.html> HTTP</A> \") is used to allow\\n'\n",
      "b'a browser program to request a keyword search by a remote information\\n'\n",
      "b'server. <P>\\n'\n",
      "b'The web contains documents in many formats. Those documents which\\n'\n",
      "b'are hypertext,  (real or virtual) contain links to other documents,\\n'\n",
      "b'or places within documents. All documents, whether real, virtual or\\n'\n",
      "b'indexes, look similar to the reader and are contained within the same\\n'\n",
      "b'addressing scheme.<P>\\n'\n",
      "b'To follow a link,  a reader clicks with a mouse (or types in a number\\n'\n",
      "b'if he or she has no mouse). To search and index, a reader gives keywords\\n'\n",
      "b'(or other search criteria). These are the only operations  necessary\\n'\n",
      "b'to access the entire world of data.\\n'\n",
      "b'<H3>Information provider view</H3>The WWW browsers can access many existing data systems via existing\\n'\n",
      "b'protocols (FTP, NNTP) or via HTTP and a gateway. In this way, the\\n'\n",
      "b'critical mass of data is quickly exceeded, and the increasing use\\n'\n",
      "b'of the system by readers and information suppliers encourage each\\n'\n",
      "b'other.<P>\\n'\n",
      "b'Making a web is as simple as writing a few <A NAME=1 HREF=MarkUp/MarkUp.html>SGML</A> files which point\\n'\n",
      "b'to your existing data. Making it public involves running the FTP or\\n'\n",
      "b'HTTP <A NAME=2 HREF=Daemon/Overview.html>daemon</A> , and making at least one link into your web from another.\\n'\n",
      "b'In fact,  any file available by anonymous FTP can be immediately linked\\n'\n",
      "b'into a web. The very small start-up effort is designed to allow small\\n'\n",
      "b'contributions.  At the other end of the scale, large information providers\\n'\n",
      "b'may provide an HTTP server with full text or keyword indexing. This\\n'\n",
      "b'may allow access to a large existing database without changing the\\n'\n",
      "b'way that database is managed. Such gateways have already been made\\n'\n",
      "b'into Digital\\'s VMS/Help, Technical Univerity of Graz\\'s \"Hyper-G\",\\n'\n",
      "b'and Thinking Machine\\'s \"W.A.I.S.\" systems.<P>\\n'\n",
      "b'The WWW model gets over the frustrating incompatibilities of data\\n'\n",
      "b'format between suppliers and reader by allowing negotiation of format\\n'\n",
      "b'between a smart browser and a smart server. This should provide a\\n'\n",
      "b'basis for extension into multimedia, and allow those who share application\\n'\n",
      "b'standards to make full use of them across the web.<P>\\n'\n",
      "b'This summary does not describe the many exciting possibilities opened\\n'\n",
      "b'up by the WWW project, such as efficient document caching. the reduction\\n'\n",
      "b'of redundant out-of-date copies, and the use of knowledge daemons.\\n'\n",
      "b'There is more information in the online project documentation, including\\n'\n",
      "b'some background on hypertext and many technical notes. \\n'\n",
      "b'<H3>Try it</H3>You can try the simple <A NAME=4 HREF=LineMode/Browser.html>line mode browser</A>  by telnetting to info.cern.ch\\n'\n",
      "b' (no user or password. From UK JANET, use the\\n'\n",
      "b'<a href=JANETAccess.html>Gateway</a>).\\n'\n",
      "b'You can also find out more about WWW in this\\n'\n",
      "b'way.  This is the least sophisticated browser -- remember that the\\n'\n",
      "b'window-oriented ones are much smarter!<P>\\n'\n",
      "b'It is much more efficient to install a browser on your own machine.\\n'\n",
      "b'The line mode browser is currently available in source form by anonymous\\n'\n",
      "b'FTP from node  info.cern.ch [currently 128.141.201.74] as\\n'\n",
      "b'<XMP>\\t\\t\\t/pub/www/src/WWWLineMode_v.vv.tar.Z.\\n'\n",
      "b'\\n'\n",
      "b'</XMP>(v.vv is the version number - take the latest.) <P>\\n'\n",
      "b'Also available is a <A NAME=5 HREF=NeXT/WorldWideWeb.html>hypertext editor</A> for the NeXT (WWWNeXTStepEditor_v.vv.tar.Z),\\n'\n",
      "b'the ViolaWWW browser for X11,  and a skeleton server daemon (WWWDaemon_v.vv.tar.Z).\\n'\n",
      "b'<XMP>\\n'\n",
      "b'</XMP>Documentation is readable using www. A plain text version of the installation\\n'\n",
      "b'instructions is included in the tar file!  Printable (postscript)\\n'\n",
      "b'documentation and articles are in /pub/www/doc<P>\\n'\n",
      "b'_________________________________________________________________\\n'\n",
      "b'<ADDRESS><A NAME=0 HREF=../../WWW/disclaimer.html>Tim BL</A>\\n'\n",
      "b'</ADDRESS>'\n"
     ]
    }
   ],
   "source": [
    "from urllib import request as rq\n",
    "\n",
    "fhand = rq.urlopen('http://info.cern.ch/hypertext/WWW/Summary.html')\n",
    "fhand = rq.urlopen('https://info.cern.ch/hypertext/WWW/Summary.html')\n",
    "for line in fhand:\n",
    "    print(line)"
   ]
  },
  {
   "cell_type": "markdown",
   "metadata": {},
   "source": [
    "##### Exercise 4: Change the urllinks.py program to extract and count paragraph (p) tags from the retrieved HTML document and display the count of the paragraphs as the output of your program. Do not display the paragraph text, only count them. Test your program on several small web pages as well as some larger web pages."
   ]
  },
  {
   "cell_type": "code",
   "execution_count": 21,
   "metadata": {},
   "outputs": [
    {
     "name": "stdout",
     "output_type": "stream",
     "text": [
      "There are 9 lines that contain <P>\n"
     ]
    }
   ],
   "source": [
    "from urllib import request as rq\n",
    "import re\n",
    "\n",
    "fhand = rq.urlopen('https://info.cern.ch/hypertext/WWW/Summary.html')\n",
    "count = 0\n",
    "\n",
    "for line in fhand:\n",
    "    if len(re.findall(\"<P>\", line.decode())) > 0:\n",
    "        count += 1\n",
    "\n",
    "print(f\"There are {count} lines that contain <P>\")"
   ]
  },
  {
   "cell_type": "markdown",
   "metadata": {},
   "source": [
    "##### Exercise 5: (Advanced) Change the socket program so that it only shows data after the headers and a blank line have been received. Remember that recv receives characters (newlines and all), not lines."
   ]
  },
  {
   "cell_type": "code",
   "execution_count": 4,
   "metadata": {},
   "outputs": [
    {
     "name": "stdout",
     "output_type": "stream",
     "text": [
      "But soft what light through yonder window breaks\n",
      "It is the east and Juliet is the sun\n",
      "Arise fair sun and kill the envious moon\n",
      "Who is already sick and pale with grief\n",
      "\n"
     ]
    },
    {
     "name": "stderr",
     "output_type": "stream",
     "text": [
      "<>:17: SyntaxWarning: invalid escape sequence '\\s'\n",
      "<>:17: SyntaxWarning: invalid escape sequence '\\s'\n",
      "/tmp/ipykernel_7000/505521708.py:17: SyntaxWarning: invalid escape sequence '\\s'\n",
      "  noheader = re.findall(\"\\r\\n\\r\\n([\\s\\S]*)\", mystr)\n"
     ]
    }
   ],
   "source": [
    "import socket, re\n",
    "\n",
    "mysock = socket.socket(socket.AF_INET, socket.SOCK_STREAM)\n",
    "mysock.connect(('data.pr4e.org', 80))\n",
    "cmd = 'GET http://data.pr4e.org/romeo.txt HTTP/1.0\\r\\n\\r\\n'.encode()\n",
    "mysock.send(cmd)\n",
    "canprint = False\n",
    "mystr = ''\n",
    "while True:\n",
    "    data = mysock.recv(512)\n",
    "    mystr += data.decode()\n",
    "    if len(data) < 1:\n",
    "        break\n",
    "   # if canprint:\n",
    "       # print(data.decode(),end='')\n",
    "\n",
    "noheader = re.findall(\"\\r\\n\\r\\n([\\s\\S]*)\", mystr)\n",
    "print(noheader[0])\n",
    "mysock.close()"
   ]
  }
 ],
 "metadata": {
  "kernelspec": {
   "display_name": "Python 3",
   "language": "python",
   "name": "python3"
  },
  "language_info": {
   "codemirror_mode": {
    "name": "ipython",
    "version": 3
   },
   "file_extension": ".py",
   "mimetype": "text/x-python",
   "name": "python",
   "nbconvert_exporter": "python",
   "pygments_lexer": "ipython3",
   "version": "3.12.1"
  }
 },
 "nbformat": 4,
 "nbformat_minor": 2
}
