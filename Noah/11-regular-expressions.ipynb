{
 "cells": [
  {
   "cell_type": "markdown",
   "metadata": {},
   "source": [
    "##### Exercise 1: Write a simple program to simulate the operation of the grep command on Unix. Ask the user to enter a regular expression and count the number of lines that matched the regular expression:"
   ]
  },
  {
   "cell_type": "code",
   "execution_count": 1,
   "metadata": {},
   "outputs": [
    {
     "ename": "SyntaxError",
     "evalue": "invalid syntax (1276143012.py, line 20)",
     "output_type": "error",
     "traceback": [
      "\u001b[0;36m  Cell \u001b[0;32mIn[1], line 20\u001b[0;36m\u001b[0m\n\u001b[0;31m    print (\"there is \", count \"lines match\")\u001b[0m\n\u001b[0m                              ^\u001b[0m\n\u001b[0;31mSyntaxError\u001b[0m\u001b[0;31m:\u001b[0m invalid syntax\n"
     ]
    }
   ],
   "source": [
    "exercise = \"Exercise 11.1\"\n",
    "import re\n",
    "### Start Code Here ###\n",
    "while True:\n",
    "\n",
    " fhand = open('mbox-short')\n",
    "\n",
    " dog = input(\"enter a reg expression:\")\n",
    " count = 0\n",
    " if dog ==\"Done\":\n",
    "  break\n",
    "\n",
    "\n",
    " \n",
    " for line in fhand :\n",
    "  if len(re.findall(dog, line)) > 0 :\n",
    "   print (re.findall(dog, line[0]))\n",
    "   count += 1 \n",
    "\n",
    "   print (\"there is \", count, \"lines match\")\n",
    "\n",
    "  \n",
    "### End Code Here ###"
   ]
  },
  {
   "cell_type": "markdown",
   "metadata": {},
   "source": [
    "##### Exercise 2: Write a program to look for lines in the mbox files of the form:\n",
    "\n",
    "New Revision: 39772\n",
    "##### Extract the number from each of the lines using a regular expression and the findall() method. Compute the average of the numbers and print out the average as an integer."
   ]
  },
  {
   "cell_type": "code",
   "execution_count": null,
   "metadata": {},
   "outputs": [],
   "source": [
    "exercise = 'Exercise 11.2'\n",
    "\n",
    "### Start Code Here ###\n",
    "\n",
    "### End Code Here ###"
   ]
  },
  {
   "cell_type": "markdown",
   "metadata": {},
   "source": [
    "##### Exercise 3:  Write a program to look for lines in the form of Received: from murder (mail.umich.edu [141.211.14.90])\n",
    "##### Build a dictionary that uses the domain name as the key and the IP address as the value.  If the IP address already exists in the dictionary it can be discarded."
   ]
  }
 ],
 "metadata": {
  "kernelspec": {
   "display_name": "Python 3",
   "language": "python",
   "name": "python3"
  },
  "language_info": {
   "codemirror_mode": {
    "name": "ipython",
    "version": 3
   },
   "file_extension": ".py",
   "mimetype": "text/x-python",
   "name": "python",
   "nbconvert_exporter": "python",
   "pygments_lexer": "ipython3",
   "version": "3.12.1"
  }
 },
 "nbformat": 4,
 "nbformat_minor": 2
}
