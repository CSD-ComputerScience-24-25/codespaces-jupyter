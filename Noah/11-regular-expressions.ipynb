{
 "cells": [
  {
   "cell_type": "markdown",
   "metadata": {},
   "source": [
    "##### Exercise 1: Write a simple program to simulate the operation of the grep command on Unix. Ask the user to enter a regular expression and count the number of lines that matched the regular expression:"
   ]
  },
  {
   "cell_type": "code",
   "execution_count": null,
   "metadata": {},
   "outputs": [
    {
     "name": "stdout",
     "output_type": "stream",
     "text": [
      "[]\n",
      "there is  1 lines match\n",
      "[]\n",
      "there is  2 lines match\n",
      "[]\n",
      "there is  3 lines match\n",
      "[]\n",
      "there is  4 lines match\n",
      "[]\n",
      "there is  5 lines match\n",
      "[]\n",
      "there is  6 lines match\n",
      "[]\n",
      "there is  7 lines match\n",
      "[]\n",
      "there is  8 lines match\n",
      "[]\n",
      "there is  9 lines match\n",
      "[]\n",
      "there is  10 lines match\n",
      "[]\n",
      "there is  11 lines match\n",
      "[]\n",
      "there is  12 lines match\n",
      "[]\n",
      "there is  13 lines match\n",
      "[]\n",
      "there is  14 lines match\n",
      "[]\n",
      "there is  15 lines match\n",
      "[]\n",
      "there is  16 lines match\n",
      "[]\n",
      "there is  17 lines match\n",
      "[]\n",
      "there is  18 lines match\n",
      "[]\n",
      "there is  19 lines match\n",
      "[]\n",
      "there is  20 lines match\n",
      "[]\n",
      "there is  21 lines match\n",
      "[]\n",
      "there is  22 lines match\n",
      "[]\n",
      "there is  23 lines match\n",
      "[]\n",
      "there is  24 lines match\n",
      "[]\n",
      "there is  25 lines match\n",
      "[]\n",
      "there is  26 lines match\n",
      "[]\n",
      "there is  27 lines match\n"
     ]
    }
   ],
   "source": [
    "exercise = \"Exercise 11.1\"\n",
    "import re\n",
    "### Start Code Here ###\n",
    "while True:\n",
    "\n",
    " fhand = open('mbox-short.txt')\n",
    "\n",
    " dog = input(\"enter a reg expression:\")\n",
    " count = 0\n",
    " if dog ==\"Done\":\n",
    "  break\n",
    "\n",
    "\n",
    " \n",
    " for line in fhand :\n",
    "  if len(re.findall(dog, line)) > 0 :\n",
    "   print (re.findall(dog, line)[0])\n",
    "   count += 1 \n",
    "\n",
    "print (\"there is \", count, \"lines match\")\n",
    "\n",
    "  \n",
    "### End Code Here ###"
   ]
  },
  {
   "cell_type": "markdown",
   "metadata": {},
   "source": [
    "##### Exercise 2: Write a program to look for lines in the mbox files of the form:\n",
    "\n",
    "New Revision: 39772\n",
    "##### Extract the number from each of the lines using a regular expression and the findall() method. Compute the average of the numbers and print out the average as an integer."
   ]
  },
  {
   "cell_type": "code",
   "execution_count": null,
   "metadata": {},
   "outputs": [],
   "source": [
    "exercise = 'Exercise 11.2'\n",
    "import re \n",
    "### Start Code Here ###\n",
    "while True:\n",
    "\n",
    " fhand = open('mbox-short.txt')\n",
    "\n",
    " dog = \"^New Revison ([0-9])\"\n",
    " peanut = 0\n",
    " butter = 0\n",
    " if dog ==\"Done\":\n",
    "  break\n",
    "\n",
    "\n",
    " \n",
    " for line in fhand :\n",
    "  if len(re.findall(dog, line)) > 0 :\n",
    "   butter += (re.findall(dog, line)[0])\n",
    "   peanut += 1 \n",
    "\n",
    "print (\"there is \", count, \"lines match\", dog+ \".\")\n",
    "### End Code Here ###"
   ]
  },
  {
   "cell_type": "markdown",
   "metadata": {},
   "source": [
    "##### Exercise 3:  Write a program to look for lines in the form of Received: from murder (mail.umich.edu [141.211.14.90])\n",
    "##### Build a dictionary that uses the domain name as the key and the IP address as the value.  If the IP address already exists in the dictionary it can be discarded."
   ]
  }
 ],
 "metadata": {
  "kernelspec": {
   "display_name": "Python 3",
   "language": "python",
   "name": "python3"
  },
  "language_info": {
   "codemirror_mode": {
    "name": "ipython",
    "version": 3
   },
   "file_extension": ".py",
   "mimetype": "text/x-python",
   "name": "python",
   "nbconvert_exporter": "python",
   "pygments_lexer": "ipython3",
   "version": "3.12.1"
  }
 },
 "nbformat": 4,
 "nbformat_minor": 2
}
