{
 "cells": [
  {
   "cell_type": "markdown",
   "metadata": {},
   "source": [
    "#### Before you start working on these exercises, make sure you've watched the videos, done the reading, and taken the quiz!\n",
    "\n",
    "General Resources:\n",
    "* [Main PY4E Website](https://www.py4e.com)\n",
    "* [Full Textbook PDF](http://do1.dr-chuck.com/pythonlearn/EN_us/pythonlearn.pdf)\n",
    "* [Full Youtube Playlist](https://www.youtube.com/playlist?list=PLlRFEj9H3Oj7Bp8-DfGpfAfDBiblRfl5p)\n",
    "\n",
    "Lesson 10 Resources:\n",
    "* [Link to Lesson](https://www.py4e.com/lessons/tuples)\n",
    "* [Video 10.1](https://www.youtube.com/watch?v=CaVhM65wD6g&list=PLlRFEj9H3Oj7Bp8-DfGpfAfDBiblRfl5p&index=42)\n",
    "* [Video 10.2](https://www.youtube.com/watch?v=FdUdA6o0Ij0&list=PLlRFEj9H3Oj7Bp8-DfGpfAfDBiblRfl5p&index=43)\n",
    "* [Video 10.3](https://www.youtube.com/watch?v=hMJpet-gtc0&list=PLlRFEj9H3Oj7Bp8-DfGpfAfDBiblRfl5p&index=44)\n",
    "* [Lesson Slides](https://www.py4e.com/lectures3/Pythonlearn-10-Tuples.pptx)\n",
    "* [Textbook Chapter 10](https://www.py4e.com/html3/10-tuples)\n",
    "* [Link to Quiz (must be logged in)](https://www.py4e.com/lessons_launch/py4e_10_tup_quiz)"
   ]
  },
  {
   "cell_type": "code",
   "execution_count": null,
   "metadata": {},
   "outputs": [],
   "source": [
    "# Make sure to run this cell to load the autograder!\n",
    "from grader import check_exercise"
   ]
  },
  {
   "cell_type": "markdown",
   "metadata": {},
   "source": [
    "**Exercise 1: Revise a previous program as follows: Read and parse the\n",
    "\"From\" lines and pull out the addresses from the line. Count the number\n",
    "of messages from each person using a dictionary.**\n",
    "\n",
    "**After all the data has been read, print the person with the most commits\n",
    "by creating a list of (count, email) tuples from the dictionary. Then\n",
    "sort the list in reverse order and print the tuple.**\n",
    "\n",
    "~~~~\n",
    "Sample Line:\n",
    "From stephen.marquard@uct.ac.za Sat Jan  5 09:14:16 2008\n",
    "\n",
    "Enter a file name: mbox-short.txt\n",
    "cwen@iupui.edu 5\n",
    "\n",
    "Enter a file name: mbox.txt\n",
    "zqian@umich.edu 195\n",
    "~~~~\n"
   ]
  },
  {
   "cell_type": "code",
   "execution_count": 4,
   "metadata": {},
   "outputs": [
    {
     "name": "stdout",
     "output_type": "stream",
     "text": [
      "(5, 'cwen@iupui.edu')\n"
     ]
    },
    {
     "data": {
      "text/plain": [
       "reversed"
      ]
     },
     "execution_count": 4,
     "metadata": {},
     "output_type": "execute_result"
    }
   ],
   "source": [
    "exercise = 'Exercise 10.1'\n",
    "\n",
    "### Start Code Here ###\n",
    "fhand = open('mbox-short.txt')\n",
    "\n",
    "dict = {} \n",
    "for line in fhand :\n",
    "    if line.startswith ('From '):\n",
    "        av = line.split()[1]\n",
    "        dict[av] = dict.get(av,0) +1\n",
    "print(max([(v,k) for k,v in dict.items()]))\n",
    "\n",
    "\n",
    "\n",
    "###  End Code Here  ###"
   ]
  },
  {
   "cell_type": "code",
   "execution_count": null,
   "metadata": {},
   "outputs": [],
   "source": [
    "# Make sure to save your notebook before checking!\n",
    "check_exercise('Exercise 10.1')"
   ]
  },
  {
   "cell_type": "markdown",
   "metadata": {},
   "source": [
    "**Exercise 2: This program counts the distribution of the hour of the day\n",
    "for each of the messages. You can pull the hour from the \"From\" line by\n",
    "finding the time string and then splitting that string into parts using\n",
    "the colon character. Once you have accumulated the counts for each hour,\n",
    "print out the counts, one per line, sorted by hour as shown below.**\n",
    "\n",
    "~~~~\n",
    "Enter a file name: mbox-short.txt\n",
    "04 3\n",
    "06 1\n",
    "07 1\n",
    "09 2\n",
    "10 3\n",
    "11 6\n",
    "14 1\n",
    "15 2\n",
    "16 4\n",
    "17 2\n",
    "18 1\n",
    "19 1\n",
    "~~~~"
   ]
  },
  {
   "cell_type": "code",
   "execution_count": 8,
   "metadata": {},
   "outputs": [
    {
     "name": "stdout",
     "output_type": "stream",
     "text": [
      "(1, '5')\n",
      "(1, '5')\n",
      "(2, '4')\n",
      "(3, '4')\n",
      "(4, '4')\n",
      "(5, '4')\n",
      "(6, '4')\n",
      "(7, '4')\n",
      "(8, '4')\n",
      "(9, '4')\n",
      "(10, '4')\n",
      "(11, '4')\n",
      "(12, '4')\n",
      "(13, '4')\n",
      "(14, '4')\n",
      "(15, '4')\n",
      "(16, '4')\n",
      "(17, '4')\n",
      "(18, '4')\n",
      "(19, '4')\n",
      "(20, '4')\n",
      "(20, '4')\n",
      "(20, '4')\n",
      "(20, '4')\n",
      "(20, '4')\n",
      "(20, '4')\n",
      "(20, '4')\n"
     ]
    }
   ],
   "source": [
    "exercise = 'Exercise 10.2'\n",
    "fhand = open ('mbox-short.txt')\n",
    "\n",
    "dict = {}\n",
    "\n",
    "for line in fhand :\n",
    "    if line.startswith ('From '):\n",
    "\n",
    "        av = line.split()[4]\n",
    "\n",
    "        dict[av] = dict.get(av,0) +1\n",
    "\n",
    "        print(max([(v,k) for k,v in dict.items()]))\n",
    "### Start Code Here ###\n",
    "\n",
    "###  End Code Here  ###"
   ]
  },
  {
   "cell_type": "code",
   "execution_count": null,
   "metadata": {},
   "outputs": [],
   "source": [
    "# Make sure to save your notebook before checking!\n",
    "check_exercise('Exercise 10.2')"
   ]
  },
  {
   "cell_type": "markdown",
   "metadata": {},
   "source": [
    "**Exercise 3: Write a program that reads a file and prints the\n",
    "*letters* in decreasing order of frequency. Your program\n",
    "should convert all the input to lower case and only count the letters\n",
    "a-z. Your program should not count spaces, digits, punctuation, or\n",
    "anything other than the letters a-z. Find text samples from several\n",
    "different languages and see how letter frequency varies between\n",
    "languages. Compare your results with the tables at\n",
    "<https://wikipedia.org/wiki/Letter_frequencies>.**\n",
    "\n",
    "~~~~\n",
    "Enter a file name: mbox-short.txt\n",
    "[('e', 5436), ('a', 5223), ('i', 4494), ('o', 4174), ('r', 4064), ('t', 4050), ('s', 3738), ('u', 3123), ('c', 3088), ('n', 2575), ('p', 2497), ('m', 2436), ('d', 2004), ('l', 1832), ('h', 1392), ('f', 1257), ('k', 1167), ('b', 1134), ('g', 1027), ('v', 997), ('j', 959), ('y', 643), ('w', 586), ('x', 482), ('z', 78), ('q', 57)]\n",
    "~~~~"
   ]
  },
  {
   "cell_type": "code",
   "execution_count": 14,
   "metadata": {},
   "outputs": [
    {
     "name": "stdout",
     "output_type": "stream",
     "text": [
      "{'f': 74252, 'r': 281859, 'o': 309157, 'm': 178115, 's': 276247, 't': 302616, 'e': 404033, 'p': 168447, 'h': 104017, 'n': 190902, 'a': 355337, 'q': 4087, 'u': 212537, 'd': 148380, 'c': 238115, 'z': 3795, 'j': 51155, 'l': 144889, 'b': 85569, 'k': 87160, 'i': 316771, 'g': 68698, 'v': 74757, 'y': 48157, 'w': 46893, 'x': 34011}\n"
     ]
    }
   ],
   "source": [
    "exercise = 'Exercise 10.3'\n",
    "\n",
    "### Start Code Here ###\n",
    "fhand = open ('mbox.txt')\n",
    "\n",
    "dict = {} \n",
    "\n",
    "for line in fhand :\n",
    "\n",
    "    for letter in line : \n",
    "        \n",
    "        if letter.lower() >= 'a' and letter.lower() <= 'z':\n",
    "\n",
    "            dict[letter.lower()] = dict.get(letter.lower(),0) +1\n",
    "\n",
    "###  End Code Here  ###\n",
    "print(dict)\n"
   ]
  },
  {
   "cell_type": "code",
   "execution_count": null,
   "metadata": {},
   "outputs": [],
   "source": [
    "# Make sure to save your notebook before checking!\n",
    "check_exercise('Exercise 10.3')"
   ]
  }
 ],
 "metadata": {
  "kernelspec": {
   "display_name": "Python 3",
   "language": "python",
   "name": "python3"
  },
  "language_info": {
   "codemirror_mode": {
    "name": "ipython",
    "version": 3
   },
   "file_extension": ".py",
   "mimetype": "text/x-python",
   "name": "python",
   "nbconvert_exporter": "python",
   "pygments_lexer": "ipython3",
   "version": "3.12.1"
  }
 },
 "nbformat": 4,
 "nbformat_minor": 4
}
