{
 "cells": [
  {
   "cell_type": "markdown",
   "metadata": {},
   "source": [
    "##### Exercise 1: Change the socket program socket1.py to prompt the user for the URL so it can read any web page.\n",
    "\n",
    "You can use split('/') to break the URL into its component parts so you can extract the host name for the socket connect call. Add error checking using try and except to handle the condition where the user enters an improperly formatted or non-existent URL."
   ]
  },
  {
   "cell_type": "code",
   "execution_count": 1,
   "metadata": {},
   "outputs": [
    {
     "name": "stdout",
     "output_type": "stream",
     "text": [
      "HTTP/1.1 200 OK\n",
      "Date: Wed, 30 Oct 2024 15:44:16 GMT\n",
      "Server: Apache/2.4.52 (Ubuntu)\n",
      "Last-Modified: Sat, 13 May 2017 11:22:22 GMT\n",
      "ETag: \"a7-54f6609245537\"\n",
      "Accept-Ranges: bytes\n",
      "Content-Length: 167\n",
      "Cache-Control: max-age=0, no-cache, no-store, must-revalidate\n",
      "Pragma: no-cache\n",
      "Expires: Wed, 11 Jan 1984 05:00:00 GMT\n",
      "Connection: close\n",
      "Content-Type: text/plain\n",
      "\n",
      "But soft what light through yonder window breaks\n",
      "It is the east and Juliet is the sun\n",
      "Arise fair sun and kill the envious moon\n",
      "Who is already sick and pale with grief\n"
     ]
    }
   ],
   "source": [
    "import socket\n",
    "\n",
    "while True:\n",
    "    url = input(\"Enter a URL :\")\n",
    "    try:\n",
    "        host_name = url.split(\"/\")[2]\n",
    "        mysock = socket.socket(socket.AF_INET, socket.SOCK_STREAM)\n",
    "        mysock.connect((host_name, 80))\n",
    "        cmd = 'GET '+url+' HTTP/1.0\\r\\n\\r\\n'\n",
    "        cmd_enc = cmd.encode()\n",
    "        mysock.send(cmd_enc)\n",
    "        break\n",
    "    except:\n",
    "        print(\"Enter a valid URl\")\n",
    "        exit()\n",
    "\n",
    "while True:\n",
    "    data = mysock.recv(512)\n",
    "    if len(data) < 1:\n",
    "        break\n",
    "    print(data.decode(),end='')\n",
    "mysock.close()"
   ]
  },
  {
   "cell_type": "markdown",
   "metadata": {},
   "source": [
    "##### Exercise 2: Change your socket program so that it counts the number of characters it has received and stops displaying any text after it has shown 3000 characters. The program should retrieve the entire document and count the total number of characters and display the count of the number of characters at the end of the document."
   ]
  },
  {
   "cell_type": "code",
   "execution_count": 3,
   "metadata": {},
   "outputs": [
    {
     "name": "stdout",
     "output_type": "stream",
     "text": [
      "b'HTTP/1.1 200 OK\\r\\nDate: Wed, 30 Oct 2024 15:45:17 GMT\\r\\nServer: Apache/2.4.52 (Ubuntu)\\r\\nLast-Modified: Sat, 13 May 2017 11:22:22 GMT\\r\\nETag: \"a7-54f6609245537\"\\r\\nAccept-Ranges: bytes\\r\\nContent-Length: 167\\r\\nCache-Control: max-age=0, no-cache, no-store, must-revalidate\\r\\nPragma: no-cache\\r\\nExpires: Wed, 11 Jan 1984 05:00:00 GMT\\r\\nConnection: close\\r\\nContent-Type: text/plain\\r\\n\\r\\nBut soft what light through yonder window breaks\\nIt is the east and Juliet is the sun\\nArise fair sun and kill the envious moon\\nWho is already s'\n",
      "b'ick and pale with grief\\n'\n",
      "Count: 536\n"
     ]
    }
   ],
   "source": [
    "import socket\n",
    "\n",
    "while True:\n",
    "    url = input(\"Enter a URL :\")\n",
    "    try:\n",
    "        host_name = url.split(\"/\")[2]\n",
    "        mysock = socket.socket(socket.AF_INET, socket.SOCK_STREAM)\n",
    "        mysock.connect((host_name, 80))\n",
    "        cmd = 'GET '+url+' HTTP/1.0\\r\\n\\r\\n'\n",
    "        cmd_enc = cmd.encode()\n",
    "        mysock.send(cmd_enc)\n",
    "        break\n",
    "    except:\n",
    "        print(\"Enter a valid URl\")\n",
    "        exit()\n",
    "\n",
    "count = 0\n",
    "while True:\n",
    "    data = mysock.recv(512)\n",
    "    count += len(data)\n",
    "    if (len(data) < 1) or count >= 3000:\n",
    "        break\n",
    "    print(data)\n",
    "\n",
    "mysock.close()\n",
    "print(\"Count:\", count)"
   ]
  }
 ],
 "metadata": {
  "kernelspec": {
   "display_name": "Python 3",
   "language": "python",
   "name": "python3"
  },
  "language_info": {
   "codemirror_mode": {
    "name": "ipython",
    "version": 3
   },
   "file_extension": ".py",
   "mimetype": "text/x-python",
   "name": "python",
   "nbconvert_exporter": "python",
   "pygments_lexer": "ipython3",
   "version": "3.12.1"
  }
 },
 "nbformat": 4,
 "nbformat_minor": 2
}
