{
 "cells": [
  {
   "cell_type": "markdown",
   "metadata": {},
   "source": [
    "##### Exercise 1: Change the socket program socket1.py to prompt the user for the URL so it can read any web page.\n",
    "\n",
    "You can use split('/') to break the URL into its component parts so you can extract the host name for the socket connect call. Add error checking using try and except to handle the condition where the user enters an improperly formatted or non-existent URL."
   ]
  },
  {
   "cell_type": "code",
   "execution_count": null,
   "metadata": {},
   "outputs": [],
   "source": [
    "import socket\n",
    "\n",
    "mysock = socket.socket(socket.AF_INET, socket.SOCK_STREAM)\n",
    "mysock.connect(('data.pr4e.org', 80))\n",
    "cmd = 'GET http://data.pr4e.org/romeo.txt HTTP/1.0\\r\\n\\r\\n'.encode()\n",
    "mysock.send(cmd)\n",
    "\n",
    "while True:\n",
    "    data = mysock.recv(512)\n",
    "    if len(data) < 1:\n",
    "        break\n",
    "    print(data.decode(),end='')\n",
    "mysock.close()"
   ]
  },
  {
   "cell_type": "markdown",
   "metadata": {},
   "source": [
    "##### Exercise 2: Change your socket program so that it counts the number of characters it has received and stops displaying any text after it has shown 3000 characters. The program should retrieve the entire document and count the total number of characters and display the count of the number of characters at the end of the document."
   ]
  },
  {
   "cell_type": "code",
   "execution_count": 9,
   "metadata": {},
   "outputs": [
    {
     "name": "stdout",
     "output_type": "stream",
     "text": [
      "b'HTTP/1.1 200 OK\\r\\nDate: Thu, 31 Oct 2024 15:49:33 GMT\\r\\nServer: Apache/2.4.52 (Ubuntu)\\r\\nLast-Modified: Sat, 13 May 2017 11:22:22 GMT\\r\\nETag: \"a7-54f6609245537\"\\r\\nAccept-Ranges: bytes\\r\\nContent-Length: 167\\r\\nCache-Control: max-age=0, no-cache, no-store, must-revalidate\\r\\nPragma: no-cache\\r\\nExpires: Wed, 11 Jan 1984 05:00:00 GMT\\r\\nConnection: close\\r\\nContent-Type: text/plain\\r\\n\\r\\nBut soft what light through yonder window breaks\\nIt is the east and Juliet is the sun\\nArise fair sun and kill the envious moon\\nWho is already s'\n",
      "b'ick and pale with grief\\n'\n",
      "Count: 536\n"
     ]
    }
   ],
   "source": [
    "import socket\n",
    "\n",
    "while True:\n",
    "    #url = input(\"Enter a URL :\")\n",
    "    url = 'http://data.pr4e.org/romeo.txt'\n",
    "    try:\n",
    "        host_name = url.split(\"/\")[2]\n",
    "        mysock = socket.socket(socket.AF_INET, socket.SOCK_STREAM)\n",
    "        mysock.connect((host_name, 80))\n",
    "        cmd = 'GET '+url+' HTTP/1.0\\r\\n\\r\\n'\n",
    "        cmd_enc = cmd.encode()\n",
    "        mysock.send(cmd_enc)\n",
    "        break\n",
    "    except:\n",
    "        print(\"Enter a valid URl\")\n",
    "        exit()\n",
    "\n",
    "count = 0\n",
    "while True:\n",
    "    data = mysock.recv(512)\n",
    "    count += len(data)\n",
    "    if (len(data) < 1) or count >= 3000:\n",
    "        break\n",
    "    print(data)\n",
    "\n",
    "mysock.close()\n",
    "print(\"Count:\", count)"
   ]
  },
  {
   "cell_type": "markdown",
   "metadata": {},
   "source": [
    "##### Exercise 3: Use urllib to replicate the previous exercise of (1) retrieving the document from a URL, (2) displaying up to 3000 characters, and (3) counting the overall number of characters in the document. Don’t worry about the headers for this exercise, simply show the first 3000 characters of the document contents."
   ]
  },
  {
   "cell_type": "code",
   "execution_count": 3,
   "metadata": {},
   "outputs": [
    {
     "name": "stdout",
     "output_type": "stream",
     "text": [
      "But soft what light through yonder window breaks\n",
      "It is the east and Juliet is the sun\n",
      "Arise fair sun and kill the envious moon\n",
      "Who is already sick and pale with grief\n",
      "167\n"
     ]
    }
   ],
   "source": [
    "import urllib.request\n",
    "\n",
    "charector = 0\n",
    "\n",
    "fhand = urllib.request.urlopen('http://data.pr4e.org/romeo.txt')\n",
    "for line in fhand:\n",
    "    line = line.decode()\n",
    "    next_count = charector + len(line)\n",
    "    if next_count <= 3000:\n",
    "        print(line.rstrip('\\n'))\n",
    "    elif charector < 3000:\n",
    "        char_remain = 3000 - charector - 1\n",
    "        print(line[:char_remain])\n",
    "    charector = next_count\n",
    "print(charector)"
   ]
  },
  {
   "cell_type": "markdown",
   "metadata": {},
   "source": [
    "##### Exercise 4: Change the urllinks.py program to extract and count paragraph (p) tags from the retrieved HTML document and display the count of the paragraphs as the output of your program. Do not display the paragraph text, only count them. Test your program on several small web pages as well as some larger web pages."
   ]
  },
  {
   "cell_type": "code",
   "execution_count": 40,
   "metadata": {},
   "outputs": [
    {
     "name": "stdout",
     "output_type": "stream",
     "text": [
      "URL:  https://foxnews.com\n",
      "Paragraph count: 8\n",
      "URL:  https://apple.com\n",
      "Paragraph count: 22\n",
      "URL:  http://www.china.com.cn\n",
      "Paragraph count: 98\n",
      "URL:  https://example.com\n",
      "Paragraph count: 2\n",
      "URL:  https://mayborg121.github.io/xs/\n",
      "Paragraph count: 195\n"
     ]
    },
    {
     "name": "stderr",
     "output_type": "stream",
     "text": [
      "Some characters could not be decoded, and were replaced with REPLACEMENT CHARACTER.\n"
     ]
    },
    {
     "name": "stdout",
     "output_type": "stream",
     "text": [
      "URL:  https://www.yahoo.co.jp\n",
      "Paragraph count: 21\n",
      "URL:  https://abc.xyz\n",
      "Paragraph count: 25\n",
      "URL:  https://www.python.org\n",
      "Paragraph count: 0\n",
      "URL:  https://www.wikipedia.org\n",
      "Paragraph count: 8\n",
      "URL:  https://yahoo.com\n",
      "Paragraph count: 93\n",
      "URL:  https://fnshop.covewolf.com\n",
      "Paragraph count: 1\n",
      "URL:  https://www.cove.k12.or.us\n",
      "Paragraph count: 2\n",
      "URL:  https://www.usa.gov\n",
      "Paragraph count: 29\n",
      "URL:  https://www.espn.com\n",
      "Paragraph count: 25\n",
      "URL:  https://www.cnn.com\n",
      "Paragraph count: 13\n"
     ]
    }
   ],
   "source": [
    "#inspiration taken from: https://github.com/jmelahman/python-for-everybody-solutions/blob/master/exercise12_4.py\n",
    "\n",
    "import urllib.request\n",
    "from bs4 import BeautifulSoup\n",
    "\n",
    "def count_p(url):\n",
    "    try:\n",
    "        html = urllib.request.urlopen(url).read()\n",
    "        soup = BeautifulSoup(html)\n",
    "        paragraphs = soup.find_all('p')\n",
    "        paragraph_count = len(paragraphs)\n",
    "        \n",
    "        print(\"URL: \", url)\n",
    "        print(\"Paragraph count:\", paragraph_count)\n",
    "        \n",
    "    except Exception as e:\n",
    "        print(\"An error occurred\")\n",
    "\n",
    "urls = {\n",
    "    \"https://example.com\",\n",
    "    \"https://www.wikipedia.org\",\n",
    "    \"https://www.python.org\",\n",
    "    \"http://www.china.com.cn\",\n",
    "    \"https://mayborg121.github.io/xs/\",\n",
    "    \"https://fnshop.covewolf.com\",\n",
    "    \"https://abc.xyz\",\n",
    "    \"https://www.cove.k12.or.us\",\n",
    "    \"https://apple.com\",\n",
    "    \"https://www.yahoo.co.jp\",\n",
    "    \"https://yahoo.com\",\n",
    "    \"https://www.espn.com\",\n",
    "    \"https://www.usa.gov\",\n",
    "    \"https://foxnews.com\",\n",
    "    \"https://www.cnn.com\"\n",
    "}\n",
    "for url in urls:\n",
    "    count_p(url)\n"
   ]
  },
  {
   "cell_type": "markdown",
   "metadata": {},
   "source": [
    "##### Exercise 5: (Advanced) Change the socket program so that it only shows data after the headers and a blank line have been received. Remember that recv receives characters (newlines and all), not lines."
   ]
  },
  {
   "cell_type": "code",
   "execution_count": 2,
   "metadata": {},
   "outputs": [
    {
     "name": "stdout",
     "output_type": "stream",
     "text": [
      "But soft what light through yonder window breaks\n",
      "It is the east and Juliet is the sun\n",
      "Arise fair sun and kill the envious moon\n",
      "Who is already sick and pale with grief\n",
      "\n",
      "Length: 167\n"
     ]
    }
   ],
   "source": [
    "import socket\n",
    "\n",
    "url = 'http://data.pr4e.org/romeo.txt'\n",
    "host_name = url.split(\"/\")[2]\n",
    "mysock = socket.socket(socket.AF_INET, socket.SOCK_STREAM)\n",
    "mysock.connect((host_name, 80))\n",
    "cmd = 'GET http://data.pr4e.org/romeo.txt HTTP/1.0\\r\\n\\r\\n'.encode()\n",
    "mysock.send(cmd)\n",
    "data = mysock.recv(1024)\n",
    "message = data.decode()\n",
    "end_pos = message.find('\\r\\n\\r\\n') + 4\n",
    "print(message[end_pos:])  \n",
    "count = message[end_pos:]\n",
    "    \n",
    "while True:\n",
    "    data = mysock.recv(1024)\n",
    "    if not data:\n",
    "        break\n",
    "    count += data.decode() \n",
    "mysock.close()\n",
    "print(\"Length:\", len(count))"
   ]
  }
 ],
 "metadata": {
  "kernelspec": {
   "display_name": "Python 3",
   "language": "python",
   "name": "python3"
  },
  "language_info": {
   "codemirror_mode": {
    "name": "ipython",
    "version": 3
   },
   "file_extension": ".py",
   "mimetype": "text/x-python",
   "name": "python",
   "nbconvert_exporter": "python",
   "pygments_lexer": "ipython3",
   "version": "3.12.1"
  }
 },
 "nbformat": 4,
 "nbformat_minor": 2
}
