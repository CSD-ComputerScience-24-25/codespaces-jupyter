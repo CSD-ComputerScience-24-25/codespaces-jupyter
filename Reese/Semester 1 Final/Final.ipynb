{
 "cells": [
  {
   "cell_type": "markdown",
   "metadata": {},
   "source": [
    "### **1. Plan Before You Code**\n",
    "- **Understand the Requirements**:\n",
    "  - Make a list of features you need to implement (e.g., adding items, updating inventory, recording transactions).\n",
    "- **Design the Database**:\n",
    "  - Think about what information each table should store.\n",
    "  - Example:  \n",
    "    - `inventory` table: `item_id`, `name`, `price`, `quantity`  \n",
    "    - `transactions` table: `transaction_id`, `item_id`, `type`, `quantity`, `date`\n",
    "- **Sketch the Menu System**:\n",
    "  - Draft what your menu options will look like in the terminal."
   ]
  },
  {
   "cell_type": "code",
   "execution_count": 2,
   "metadata": {},
   "outputs": [
    {
     "name": "stderr",
     "output_type": "stream",
     "text": [
      "<>:3: SyntaxWarning: invalid escape sequence '\\F'\n",
      "<>:3: SyntaxWarning: invalid escape sequence '\\F'\n",
      "/tmp/ipykernel_3120/1480454368.py:3: SyntaxWarning: invalid escape sequence '\\F'\n",
      "  conn = sqlite3.connect('Reese\\Final.sqlite')\n"
     ]
    }
   ],
   "source": [
    "import sqlite3\n",
    "\n",
    "conn = sqlite3.connect('Reese\\Final.sqlite')\n",
    "cur = conn.cursor()\n",
    "\n",
    "while True:\n",
    "\n",
    "    try:\n",
    "        command = input('Enter an SQLite Command: ')\n",
    "\n",
    "        if command == 'Done':\n",
    "            cur.close()\n",
    "            break\n",
    "        elif command.startswith(\"SELECT\"):\n",
    "            cur.execute(command)\n",
    "            print(cur.fetchall())\n",
    "        else:\n",
    "            cur.execute(command)\n",
    "        \n",
    "        conn.commit()\n",
    "    except:\n",
    "        print(\"Command Failed\") "
   ]
  },
  {
   "cell_type": "code",
   "execution_count": 8,
   "metadata": {},
   "outputs": [
    {
     "ename": "OperationalError",
     "evalue": "unable to open database file",
     "output_type": "error",
     "traceback": [
      "\u001b[0;31m---------------------------------------------------------------------------\u001b[0m",
      "\u001b[0;31mOperationalError\u001b[0m                          Traceback (most recent call last)",
      "Cell \u001b[0;32mIn[8], line 7\u001b[0m\n\u001b[1;32m      4\u001b[0m db_path \u001b[38;5;241m=\u001b[39m \u001b[38;5;124m'\u001b[39m\u001b[38;5;124m/path/to/Reese_Final.sqlite\u001b[39m\u001b[38;5;124m'\u001b[39m\n\u001b[1;32m      6\u001b[0m \u001b[38;5;66;03m# Connect to the database\u001b[39;00m\n\u001b[0;32m----> 7\u001b[0m conn \u001b[38;5;241m=\u001b[39m \u001b[43msqlite3\u001b[49m\u001b[38;5;241;43m.\u001b[39;49m\u001b[43mconnect\u001b[49m\u001b[43m(\u001b[49m\u001b[43mdb_path\u001b[49m\u001b[43m)\u001b[49m\n\u001b[1;32m      8\u001b[0m cursor \u001b[38;5;241m=\u001b[39m conn\u001b[38;5;241m.\u001b[39mcursor()\n\u001b[1;32m     10\u001b[0m \u001b[38;5;66;03m# List all tables\u001b[39;00m\n",
      "\u001b[0;31mOperationalError\u001b[0m: unable to open database file"
     ]
    }
   ],
   "source": [
    "import sqlite3\n",
    "\n",
    "# Path to your SQLite database\n",
    "db_path = '/path/to/Reese_Final.sqlite'\n",
    "\n",
    "# Connect to the database\n",
    "conn = sqlite3.connect(db_path)\n",
    "cursor = conn.cursor()\n",
    "\n",
    "# List all tables\n",
    "cursor.execute(\"SELECT name FROM sqlite_master WHERE type='table';\")\n",
    "tables = cursor.fetchall()\n",
    "print(\"Tables in database:\", [table[0] for table in tables])\n",
    "\n",
    "conn.close()\n"
   ]
  }
 ],
 "metadata": {
  "kernelspec": {
   "display_name": "Python 3",
   "language": "python",
   "name": "python3"
  },
  "language_info": {
   "codemirror_mode": {
    "name": "ipython",
    "version": 3
   },
   "file_extension": ".py",
   "mimetype": "text/x-python",
   "name": "python",
   "nbconvert_exporter": "python",
   "pygments_lexer": "ipython3",
   "version": "3.12.1"
  }
 },
 "nbformat": 4,
 "nbformat_minor": 4
}
