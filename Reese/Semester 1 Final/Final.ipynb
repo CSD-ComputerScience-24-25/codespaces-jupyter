{
 "cells": [
  {
   "cell_type": "markdown",
   "metadata": {},
   "source": [
    "### **1. Plan Before You Code**\n",
    "- **Understand the Requirements**:\n",
    "  - Make a list of features you need to implement (e.g., adding items, updating inventory, recording transactions).\n",
    "- **Design the Database**:\n",
    "  - Think about what information each table should store.\n",
    "  - Example:  \n",
    "    - `inventory` table: `item_id`, `name`, `price`, `quantity`  \n",
    "    - `transactions` table: `transaction_id`, `item_id`, `type`, `quantity`, `date`\n",
    "- **Sketch the Menu System**:\n",
    "  - Draft what your menu options will look like in the terminal."
   ]
  },
  {
   "cell_type": "code",
   "execution_count": 3,
   "metadata": {},
   "outputs": [
    {
     "name": "stderr",
     "output_type": "stream",
     "text": [
      "<>:3: SyntaxWarning: invalid escape sequence '\\F'\n",
      "<>:3: SyntaxWarning: invalid escape sequence '\\F'\n",
      "/tmp/ipykernel_23996/1480454368.py:3: SyntaxWarning: invalid escape sequence '\\F'\n",
      "  conn = sqlite3.connect('Reese\\Final.sqlite')\n"
     ]
    }
   ],
   "source": [
    "import sqlite3\n",
    "\n",
    "conn = sqlite3.connect('Reese\\Final.sqlite')\n",
    "cur = conn.cursor()\n",
    "\n",
    "while True:\n",
    "\n",
    "    try:\n",
    "        command = input('Enter an SQLite Command: ')\n",
    "\n",
    "        if command == 'Done':\n",
    "            cur.close()\n",
    "            break\n",
    "        elif command.startswith(\"SELECT\"):\n",
    "            cur.execute(command)\n",
    "            print(cur.fetchall())\n",
    "        else:\n",
    "            cur.execute(command)\n",
    "        \n",
    "        conn.commit()\n",
    "    except:\n",
    "        print(\"Command Failed\") "
   ]
  },
  {
   "cell_type": "code",
   "execution_count": null,
   "metadata": {},
   "outputs": [],
   "source": []
  }
 ],
 "metadata": {
  "kernelspec": {
   "display_name": "Python 3",
   "language": "python",
   "name": "python3"
  },
  "language_info": {
   "codemirror_mode": {
    "name": "ipython",
    "version": 3
   },
   "file_extension": ".py",
   "mimetype": "text/x-python",
   "name": "python",
   "nbconvert_exporter": "python",
   "pygments_lexer": "ipython3",
   "version": "3.12.1"
  }
 },
 "nbformat": 4,
 "nbformat_minor": 4
}
