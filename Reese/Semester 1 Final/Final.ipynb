{
 "cells": [
  {
   "cell_type": "markdown",
   "metadata": {},
   "source": [
    "### **1. Plan Before You Code**\n",
    "- **Understand the Requirements**:\n",
    "  - Make a list of features you need to implement (e.g., adding items, updating inventory, recording transactions).\n",
    "- **Design the Database**:\n",
    "  - Think about what information each table should store.\n",
    "  - Example:  \n",
    "    - `inventory` table: `item_id`, `name`, `price`, `quantity`  \n",
    "    - `transactions` table: `transaction_id`, `item_id`, `type`, `quantity`, `date`\n",
    "- **Sketch the Menu System**:\n",
    "  - Draft what your menu options will look like in the terminal."
   ]
  },
  {
   "cell_type": "code",
   "execution_count": 1,
   "metadata": {},
   "outputs": [
    {
     "name": "stdout",
     "output_type": "stream",
     "text": [
      "Command Failed\n"
     ]
    }
   ],
   "source": [
    "import sqlite3\n",
    "\n",
    "conn = sqlite3.connect('Reese\\Final.sqlite')\n",
    "cur = conn.cursor()\n",
    "\n",
    "while True:\n",
    "\n",
    "    try:\n",
    "        command = input('Enter an SQLite Command: ')\n",
    "\n",
    "        if command == 'Done':\n",
    "            cur.close()\n",
    "            break\n",
    "        elif command.startswith(\"SELECT\"):\n",
    "            cur.execute(command)\n",
    "            print(cur.fetchall())\n",
    "        else:\n",
    "            cur.execute(command)\n",
    "        \n",
    "        conn.commit()\n",
    "    except:\n",
    "        print(\"Command Failed\") "
   ]
  },
  {
   "cell_type": "code",
   "execution_count": 1,
   "metadata": {},
   "outputs": [
    {
     "name": "stdout",
     "output_type": "stream",
     "text": [
      "View Transaction History\n"
     ]
    }
   ],
   "source": [
    "options = input('''\n",
    "Choose one of the following options:\n",
    "1 = Transaction Mode\n",
    "2 = View Transaction History\n",
    "3 = View Store Items\n",
    "4 = Edit Store Items\n",
    "Enter your choice: ''')\n",
    "\n",
    "# Convert the input to an integer for comparison\n",
    "try:\n",
    "    options = int(options)\n",
    "    if options == 1:\n",
    "        print('Transaction Mode')\n",
    "    elif options == 2:\n",
    "        print('View Transaction History')\n",
    "    elif options == 3:\n",
    "        print('View Store Items')\n",
    "    elif options == 4:\n",
    "        print('You can edit store items and inventory here: https://docs.google.com/spreadsheets/d/1A5EL5e8NqLPtWlnkad39GRC5DR2DMJxS3TaYiMQh4nM/edit?usp=sharing')\n",
    "    else:\n",
    "        print(\"Invalid option. Please choose a number between 1 and 4.\")\n",
    "except ValueError:\n",
    "    print(\"Invalid input. Please enter a number.\")\n"
   ]
  }
 ],
 "metadata": {
  "kernelspec": {
   "display_name": "Python 3",
   "language": "python",
   "name": "python3"
  },
  "language_info": {
   "codemirror_mode": {
    "name": "ipython",
    "version": 3
   },
   "file_extension": ".py",
   "mimetype": "text/x-python",
   "name": "python",
   "nbconvert_exporter": "python",
   "pygments_lexer": "ipython3",
   "version": "3.10.5"
  }
 },
 "nbformat": 4,
 "nbformat_minor": 4
}
