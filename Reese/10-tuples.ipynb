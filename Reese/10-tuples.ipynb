{
 "cells": [
  {
   "cell_type": "markdown",
   "metadata": {},
   "source": [
    "#### Before you start working on these exercises, make sure you've watched the videos, done the reading, and taken the quiz!\n",
    "\n",
    "General Resources:\n",
    "* [Main PY4E Website](https://www.py4e.com)\n",
    "* [Full Textbook PDF](http://do1.dr-chuck.com/pythonlearn/EN_us/pythonlearn.pdf)\n",
    "* [Full Youtube Playlist](https://www.youtube.com/playlist?list=PLlRFEj9H3Oj7Bp8-DfGpfAfDBiblRfl5p)\n",
    "\n",
    "Lesson 10 Resources:\n",
    "* [Link to Lesson](https://www.py4e.com/lessons/tuples)\n",
    "* [Video 10.1](https://www.youtube.com/watch?v=CaVhM65wD6g&list=PLlRFEj9H3Oj7Bp8-DfGpfAfDBiblRfl5p&index=42)\n",
    "* [Video 10.2](https://www.youtube.com/watch?v=FdUdA6o0Ij0&list=PLlRFEj9H3Oj7Bp8-DfGpfAfDBiblRfl5p&index=43)\n",
    "* [Video 10.3](https://www.youtube.com/watch?v=hMJpet-gtc0&list=PLlRFEj9H3Oj7Bp8-DfGpfAfDBiblRfl5p&index=44)\n",
    "* [Lesson Slides](https://www.py4e.com/lectures3/Pythonlearn-10-Tuples.pptx)\n",
    "* [Textbook Chapter 10](https://www.py4e.com/html3/10-tuples)\n",
    "* [Link to Quiz (must be logged in)](https://www.py4e.com/lessons_launch/py4e_10_tup_quiz)"
   ]
  },
  {
   "cell_type": "code",
   "execution_count": null,
   "metadata": {},
   "outputs": [],
   "source": [
    "# Make sure to run this cell to load the autograder!\n",
    "from grader import check_exercise"
   ]
  },
  {
   "cell_type": "markdown",
   "metadata": {},
   "source": [
    "**Exercise 1: Revise a previous program as follows: Read and parse the\n",
    "\"From\" lines and pull out the addresses from the line. Count the number\n",
    "of messages from each person using a dictionary.**\n",
    "\n",
    "**After all the data has been read, print the person with the most commits\n",
    "by creating a list of (count, email) tuples from the dictionary. Then\n",
    "sort the list in reverse order and print the tuple.**\n",
    "\n",
    "~~~~\n",
    "Sample Line:\n",
    "From stephen.marquard@uct.ac.za Sat Jan  5 09:14:16 2008\n",
    "\n",
    "Enter a file name: mbox-short.txt\n",
    "cwen@iupui.edu 5\n",
    "\n",
    "Enter a file name: mbox.txt\n",
    "zqian@umich.edu 195\n",
    "~~~~\n"
   ]
  },
  {
   "cell_type": "code",
   "execution_count": 73,
   "metadata": {},
   "outputs": [
    {
     "name": "stdout",
     "output_type": "stream",
     "text": [
      "cwen@iupui.edu 5\n"
     ]
    }
   ],
   "source": [
    "exercise = 'Exercise 10.1'\n",
    "\n",
    "### Start Code Here ###\n",
    "\n",
    "while True:\n",
    "    try: \n",
    "        fname = input(\"Enter file name: \")\n",
    "        fhand = open(fname)\n",
    "        break\n",
    "    except:\n",
    "        print(fname, \"failed to open\")\n",
    "\n",
    "adresses = {}\n",
    "\n",
    "for line in fhand:  \n",
    "    words = line.split()  \n",
    "    if len(words) < 3 or words[0] != 'From':\n",
    "        continue\n",
    "    else:\n",
    "        if words[1] not in adresses:\n",
    "            adresses[words[1]] = 1       \n",
    "        else:\n",
    "            adresses[words[1]] += 1   \n",
    "  \n",
    "tuple = (adresses)\n",
    "\n",
    "max_val = max(tuple.values())\n",
    "max_adress = list(tuple.keys()) [list(tuple.values()).index(max_val)]\n",
    "print(max_adress,max_val)\n",
    "\n",
    "###  End Code Here  ###"
   ]
  },
  {
   "cell_type": "code",
   "execution_count": null,
   "metadata": {},
   "outputs": [],
   "source": [
    "# Make sure to save your notebook before checking!\n",
    "check_exercise('Exercise 10.1')"
   ]
  },
  {
   "cell_type": "markdown",
   "metadata": {},
   "source": [
    "**Exercise 2: This program counts the distribution of the hour of the day\n",
    "for each of the messages. You can pull the hour from the \"From\" line by\n",
    "finding the time string and then splitting that string into parts using\n",
    "the colon character. Once you have accumulated the counts for each hour,\n",
    "print out the counts, one per line, sorted by hour as shown below.**\n",
    "\n",
    "~~~~\n",
    "Enter a file name: mbox-short.txt\n",
    "04 3\n",
    "06 1\n",
    "07 1\n",
    "09 2\n",
    "10 3\n",
    "11 6\n",
    "14 1\n",
    "15 2\n",
    "16 4\n",
    "17 2\n",
    "18 1\n",
    "19 1\n",
    "~~~~"
   ]
  },
  {
   "cell_type": "code",
   "execution_count": 10,
   "metadata": {},
   "outputs": [
    {
     "name": "stdout",
     "output_type": "stream",
     "text": [
      "09: 2\n",
      "18: 1\n",
      "16: 4\n",
      "15: 2\n",
      "14: 1\n",
      "11: 6\n",
      "10: 3\n",
      "07: 1\n",
      "06: 1\n",
      "04: 3\n",
      "19: 1\n",
      "17: 2\n"
     ]
    }
   ],
   "source": [
    "exercise = 'Exercise 10.2'\n",
    "\n",
    "### Start Code Here ###\n",
    "\n",
    "fhand = open(\"mbox-short.txt\") \n",
    "\n",
    "dict_hour = {} \n",
    "\n",
    "for line in fhand:\n",
    "    words = line.split()\n",
    "    if len(words) < 2 or words[0] != 'From': \n",
    "        continue\n",
    "    else:\n",
    "       col_pos = words[5].find(':')\n",
    "    hour = words[5][:col_pos]\n",
    "    if hour not in dict_hour:\n",
    "        dict_hour[hour] = 1     \n",
    "    else:\n",
    "       dict_hour[hour] += 1  \n",
    "\n",
    "tuple = (dict_hour)\n",
    "\n",
    "print('\\n'.join(f\"{key}: {value}\" for key, value in tuple.items()))\n",
    "\n",
    "\n",
    "###  End Code Here  ###"
   ]
  },
  {
   "cell_type": "code",
   "execution_count": null,
   "metadata": {},
   "outputs": [],
   "source": [
    "# Make sure to save your notebook before checking!\n",
    "check_exercise('Exercise 10.2')"
   ]
  },
  {
   "cell_type": "markdown",
   "metadata": {},
   "source": [
    "**Exercise 3: Write a program that reads a file and prints the\n",
    "*letters* in decreasing order of frequency. Your program\n",
    "should convert all the input to lower case and only count the letters\n",
    "a-z. Your program should not count spaces, digits, punctuation, or\n",
    "anything other than the letters a-z. Find text samples from several\n",
    "different languages and see how letter frequency varies between\n",
    "languages. Compare your results with the tables at\n",
    "<https://wikipedia.org/wiki/Letter_frequencies>.**\n",
    "\n",
    "~~~~\n",
    "Enter a file name: mbox-short.txt\n",
    "[('e', 5436), ('a', 5223), ('i', 4494), ('o', 4174), ('r', 4064), ('t', 4050), ('s', 3738), ('u', 3123), ('c', 3088), ('n', 2575), ('p', 2497), ('m', 2436), ('d', 2004), ('l', 1832), ('h', 1392), ('f', 1257), ('k', 1167), ('b', 1134), ('g', 1027), ('v', 997), ('j', 959), ('y', 643), ('w', 586), ('x', 482), ('z', 78), ('q', 57)]\n",
    "~~~~"
   ]
  },
  {
   "cell_type": "code",
   "execution_count": 4,
   "metadata": {},
   "outputs": [
    {
     "name": "stdout",
     "output_type": "stream",
     "text": [
      "e: 5436\n",
      "a: 5223\n",
      "i: 4494\n",
      "o: 4174\n",
      "r: 4064\n",
      "t: 4050\n",
      "s: 3738\n",
      "u: 3123\n",
      "c: 3088\n",
      "n: 2575\n",
      "p: 2497\n",
      "m: 2436\n",
      "d: 2004\n",
      "l: 1832\n",
      "h: 1392\n",
      "f: 1257\n",
      "k: 1167\n",
      "b: 1134\n",
      "g: 1027\n",
      "v: 997\n",
      "j: 959\n",
      "y: 643\n",
      "w: 586\n",
      "x: 482\n",
      "z: 78\n",
      "q: 57\n"
     ]
    }
   ],
   "source": [
    "exercise = 'Exercise 10.3'\n",
    "\n",
    "### Start Code Here ###\n",
    "\n",
    "fhand = open(\"mbox-short.txt\")\n",
    "counts = {}\n",
    "\n",
    "for line in fhand:\n",
    "    for letter in line:\n",
    "        if letter.lower() >= 'a' and letter.lower() <= 'z':\n",
    "            counts[letter.lower()] = counts.get(letter.lower(), 0) + 1\n",
    "\n",
    "def sort_count(item):\n",
    "    return item[1]\n",
    "sorted_counts = sorted(counts.items(), key=sort_count, reverse=True)\n",
    "for letter, count in sorted_counts:\n",
    "    print(letter + \":\", count)\n",
    "\n",
    "\n",
    "###  End Code Here  ###"
   ]
  },
  {
   "cell_type": "code",
   "execution_count": null,
   "metadata": {},
   "outputs": [],
   "source": [
    "# Make sure to save your notebook before checking!\n",
    "check_exercise('Exercise 10.3')"
   ]
  }
 ],
 "metadata": {
  "kernelspec": {
   "display_name": "Python 3",
   "language": "python",
   "name": "python3"
  },
  "language_info": {
   "codemirror_mode": {
    "name": "ipython",
    "version": 3
   },
   "file_extension": ".py",
   "mimetype": "text/x-python",
   "name": "python",
   "nbconvert_exporter": "python",
   "pygments_lexer": "ipython3",
   "version": "3.12.1"
  }
 },
 "nbformat": 4,
 "nbformat_minor": 4
}
