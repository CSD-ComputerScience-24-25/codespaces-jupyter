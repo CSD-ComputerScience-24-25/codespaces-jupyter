{
 "cells": [
  {
   "cell_type": "markdown",
   "metadata": {},
   "source": [
    "##### Exercise 1: Write a simple program to simulate the operation of the grep command on Unix. Ask the user to enter a regular expression and count the number of lines that matched the regular expression:"
   ]
  },
  {
   "cell_type": "code",
   "execution_count": 4,
   "metadata": {},
   "outputs": [
    {
     "name": "stdout",
     "output_type": "stream",
     "text": [
      "There was 1910 numbers of lines using this expression ^(.*).\n",
      "There was 1693 numbers of lines using this expression [^\\n]+.\n",
      "There was 1693 numbers of lines using this expression [^\\n]+.\n",
      "There was 619 numbers of lines using this expression v.\n",
      "There was 1693 numbers of lines using this expression [^\\n]+.\n",
      "There was 1693 numbers of lines using this expression [^\\n]+.\n",
      "There was 1693 numbers of lines using this expression [^\\n]+.\n",
      "There was 1693 numbers of lines using this expression [^\\n]+.\n",
      "There was 1693 numbers of lines using this expression [^\\n]+.\n"
     ]
    }
   ],
   "source": [
    "exercise = \"Exercise 11.1\"\n",
    "\n",
    "import re\n",
    "\n",
    "### Start Code Here ###\n",
    "while True:\n",
    "    fhand = open('mbox-short.txt')\n",
    "\n",
    "    cmd = input(\"enter a regular expression: \")\n",
    "\n",
    "    count = 0\n",
    "    if cmd == \"Done\":\n",
    "         break\n",
    "\n",
    "    for line in fhand:\n",
    "        if len(re.findall(cmd, line)) > 0:\n",
    "            #print(re.findall(cmd, line)[0])\n",
    "            count += 1\n",
    "\n",
    "    print(\"There was\", count, \"numbers of lines using this expression\", cmd+\".\")\n",
    "\n",
    "### End Code Here ###"
   ]
  },
  {
   "cell_type": "markdown",
   "metadata": {},
   "source": [
    "##### Exercise 2: Write a program to look for lines in the mbox files of the form:\n",
    "\n",
    "New Revision: 39772\n",
    "##### Extract the number from each of the lines using a regular expression and the findall() method. Compute the average of the numbers and print out the average as an integer."
   ]
  },
  {
   "cell_type": "code",
   "execution_count": 4,
   "metadata": {},
   "outputs": [
    {
     "name": "stderr",
     "output_type": "stream",
     "text": [
      "<>:12: SyntaxWarning: invalid escape sequence '\\s'\n",
      "<>:12: SyntaxWarning: invalid escape sequence '\\s'\n",
      "/tmp/ipykernel_2666/3068363160.py:12: SyntaxWarning: invalid escape sequence '\\s'\n",
      "  num = re.search('^New Revision:(\\s[0-9.]+)',line)\n",
      "/tmp/ipykernel_2666/3068363160.py:12: SyntaxWarning: invalid escape sequence '\\s'\n",
      "  num = re.search('^New Revision:(\\s[0-9.]+)',line)\n"
     ]
    },
    {
     "ename": "TypeError",
     "evalue": "object of type 'NoneType' has no len()",
     "output_type": "error",
     "traceback": [
      "\u001b[0;31m---------------------------------------------------------------------------\u001b[0m",
      "\u001b[0;31mTypeError\u001b[0m                                 Traceback (most recent call last)",
      "Cell \u001b[0;32mIn[4], line 13\u001b[0m\n\u001b[1;32m     11\u001b[0m line \u001b[38;5;241m=\u001b[39m line\u001b[38;5;241m.\u001b[39mrstrip()\n\u001b[1;32m     12\u001b[0m num \u001b[38;5;241m=\u001b[39m re\u001b[38;5;241m.\u001b[39msearch(\u001b[38;5;124m'\u001b[39m\u001b[38;5;124m^New Revision:(\u001b[39m\u001b[38;5;124m\\\u001b[39m\u001b[38;5;124ms[0-9.]+)\u001b[39m\u001b[38;5;124m'\u001b[39m,line)\n\u001b[0;32m---> 13\u001b[0m \u001b[38;5;28;01mif\u001b[39;00m \u001b[38;5;28;43mlen\u001b[39;49m\u001b[43m(\u001b[49m\u001b[43mnum\u001b[49m\u001b[43m)\u001b[49m \u001b[38;5;241m>\u001b[39m \u001b[38;5;241m0\u001b[39m:\n\u001b[1;32m     14\u001b[0m     \u001b[38;5;28;01mfor\u001b[39;00m number \u001b[38;5;129;01min\u001b[39;00m num:\n\u001b[1;32m     15\u001b[0m         number \u001b[38;5;241m=\u001b[39m \u001b[38;5;28mfloat\u001b[39m(number)\n",
      "\u001b[0;31mTypeError\u001b[0m: object of type 'NoneType' has no len()"
     ]
    }
   ],
   "source": [
    "import re\n",
    "\n",
    "exercise = 'Exercise 11.2'\n",
    "\n",
    "### Start Code Here ###\n",
    "\n",
    "fname = \"mbox.txt\"\n",
    "fhand = open(fname)\n",
    "lst = []\n",
    "for line in fhand:\n",
    "    line = line.rstrip()\n",
    "    num = re.findall('^New Revision:(\\s[0-9.]+)',line)\n",
    "    if len(num) > 0:\n",
    "        for number in num:\n",
    "            number = float(number)\n",
    "        lst.append(number)\n",
    "\n",
    "\n",
    "\n",
    "### End Code Here ###"
   ]
  },
  {
   "cell_type": "markdown",
   "metadata": {},
   "source": [
    "##### Exercise 3:  Write a program to look for lines in the form of Received: from murder (mail.umich.edu [141.211.14.90])\n",
    "##### Build a dictionary that uses the domain name as the key and the IP address as the value.  If the IP address already exists in the dictionary it can be discarded."
   ]
  },
  {
   "cell_type": "code",
   "execution_count": null,
   "metadata": {},
   "outputs": [],
   "source": []
  }
 ],
 "metadata": {
  "kernelspec": {
   "display_name": "Python 3",
   "language": "python",
   "name": "python3"
  },
  "language_info": {
   "codemirror_mode": {
    "name": "ipython",
    "version": 3
   },
   "file_extension": ".py",
   "mimetype": "text/x-python",
   "name": "python",
   "nbconvert_exporter": "python",
   "pygments_lexer": "ipython3",
   "version": "3.12.1"
  }
 },
 "nbformat": 4,
 "nbformat_minor": 2
}
