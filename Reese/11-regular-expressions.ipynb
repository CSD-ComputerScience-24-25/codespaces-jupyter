{
 "cells": [
  {
   "cell_type": "markdown",
   "metadata": {},
   "source": [
    "##### Exercise 1: Write a simple program to simulate the operation of the grep command on Unix. Ask the user to enter a regular expression and count the number of lines that matched the regular expression:"
   ]
  },
  {
   "cell_type": "code",
   "execution_count": null,
   "metadata": {},
   "outputs": [
    {
     "name": "stdout",
     "output_type": "stream",
     "text": [
      "There was 0 numbers of lines using this expression mbox-short.txt.\n",
      "There was 0 numbers of lines using this expression mbox-short.txt.\n"
     ]
    }
   ],
   "source": [
    "exercise = \"Exercise 11.1\"\n",
    "\n",
    "import re\n",
    "\n",
    "### Start Code Here ###\n",
    "while True:\n",
    "    fhand = open('mbox-short.txt')\n",
    "\n",
    "    cmd = input(\"enter a regular expression: \")\n",
    "\n",
    "    count = 0\n",
    "    if cmd == \"Done\":\n",
    "         break\n",
    "\n",
    "    for line in fhand:\n",
    "        if len(re.findall(cmd, line)) > 0:\n",
    "            #print(re.findall(cmd, line)[0])\n",
    "            count += 1\n",
    "\n",
    "    print(\"There was\", count, \"numbers of lines using this expression\", cmd+\".\")\n",
    "\n",
    "### End Code Here ###"
   ]
  },
  {
   "cell_type": "markdown",
   "metadata": {},
   "source": [
    "##### Exercise 2: Write a program to look for lines in the mbox files of the form:\n",
    "\n",
    "New Revision: 39772\n",
    "##### Extract the number from each of the lines using a regular expression and the findall() method. Compute the average of the numbers and print out the average as an integer."
   ]
  },
  {
   "cell_type": "code",
   "execution_count": 1,
   "metadata": {},
   "outputs": [
    {
     "name": "stdout",
     "output_type": "stream",
     "text": [
      "New Revision: 39757\n"
     ]
    },
    {
     "name": "stderr",
     "output_type": "stream",
     "text": [
      "<>:12: SyntaxWarning: invalid escape sequence '\\s'\n",
      "<>:12: SyntaxWarning: invalid escape sequence '\\s'\n",
      "/tmp/ipykernel_3766/2741188021.py:12: SyntaxWarning: invalid escape sequence '\\s'\n",
      "  num = re.findall('^New Revision:(\\s[0-9.]+)',line)\n"
     ]
    }
   ],
   "source": [
    "import re\n",
    "\n",
    "exercise = 'Exercise 11.2'\n",
    "\n",
    "### Start Code Here ###\n",
    "\n",
    "fhand = open('mbox-short.txt')\n",
    "\n",
    "lst = list()\n",
    "\n",
    "for line in fhand:\n",
    "    num = re.findall('^New Revision:(\\s[0-9.]+)',line)\n",
    "    if len(num) > 0:\n",
    "        for number in num:\n",
    "            number = float(number)\n",
    "        lst.append(number)\n",
    "average = sum(lst)/len(lst)\n",
    "print(\"New Revision:\",round(average))\n",
    "\n",
    "### End Code Here ###"
   ]
  },
  {
   "cell_type": "markdown",
   "metadata": {},
   "source": [
    "##### Exercise 3:  Write a program to look for lines in the form of Received: from murder (mail.umich.edu [141.211.14.90])\n",
    "##### Build a dictionary that uses the domain name as the key and the IP address as the value.  If the IP address already exists in the dictionary it can be discarded."
   ]
  },
  {
   "cell_type": "code",
   "execution_count": 5,
   "metadata": {},
   "outputs": [
    {
     "name": "stdout",
     "output_type": "stream",
     "text": [
      "{'mail.umich.edu': '141.211.14.90', 'holes.mr.itd.umich.edu': '141.211.14.79', 'app1.prod.collab.uhi.ac.uk': '194.35.219.184', 'localhost': '127.0.0.1', '[194.35.219.182])': '194.35.219.182', 'nakamura.uits.iupui.edu': '134.68.220.122', 'icestorm.mr.itd.umich.edu': '141.211.93.149', 'ghostbusters.mr.itd.umich.edu': '141.211.93.144', 'dreamcatcher.mr.itd.umich.edu': '141.211.14.43', 'firestarter.mr.itd.umich.edu': '141.211.14.83', 'eyewitness.mr.itd.umich.edu': '141.211.93.142', 'tadpole.mr.itd.umich.edu': '141.211.14.72', 'it.mr.itd.umich.edu': '141.211.93.151', 'creepshow.mr.itd.umich.edu': '141.211.14.84', 'carrie.mr.itd.umich.edu': '141.211.93.152', 'shining.mr.itd.umich.edu': '141.211.93.153', 'guys.mr.itd.umich.edu': '141.211.14.76', 'galaxyquest.mr.itd.umich.edu': '141.211.93.145', 'workinggirl.mr.itd.umich.edu': '141.211.93.143', 'salemslot.mr.itd.umich.edu': '141.211.14.58', 'anniehall.mr.itd.umich.edu': '141.211.93.141'}\n"
     ]
    }
   ],
   "source": [
    "import re\n",
    "\n",
    "domains = {}\n",
    "\n",
    "fhand = open(\"mbox-short.txt\")\n",
    "for line in fhand:\n",
    "\n",
    "    domain = re.findall(r\"^Received.*\\(([\\S]*)\\s\", line)\n",
    "\n",
    "    ip = re.findall(r\"^Received.*\\[([0-9]*\\.[0-9]*\\.[0-9]*\\.[0-9]*)\", line)\n",
    "\n",
    "    try:\n",
    "        domains[domain[0]] = domains.get(domain[0], ip[0])\n",
    "    except:\n",
    "        continue\n",
    "\n",
    "print(domains)"
   ]
  }
 ],
 "metadata": {
  "kernelspec": {
   "display_name": "Python 3",
   "language": "python",
   "name": "python3"
  },
  "language_info": {
   "codemirror_mode": {
    "name": "ipython",
    "version": 3
   },
   "file_extension": ".py",
   "mimetype": "text/x-python",
   "name": "python",
   "nbconvert_exporter": "python",
   "pygments_lexer": "ipython3",
   "version": "3.12.1"
  }
 },
 "nbformat": 4,
 "nbformat_minor": 2
}
