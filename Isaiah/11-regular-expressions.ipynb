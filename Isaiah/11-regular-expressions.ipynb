{
 "cells": [
  {
   "cell_type": "markdown",
   "metadata": {},
   "source": [
    "```\n",
    "Python Regular Expression Quick Guide\n",
    "\n",
    "^        Matches the beginning of a line\n",
    "$        Matches the end of the line\n",
    ".        Matches any character\n",
    "\\s       Matches whitespace\n",
    "\\S       Matches any non-whitespace character\n",
    "*        Repeats a character zero or more times\n",
    "*?       Repeats a character zero or more times \n",
    "         (non-greedy)\n",
    "+        Repeats a character one or more times\n",
    "+?       Repeats a character one or more times \n",
    "         (non-greedy)\n",
    "[aeiou]  Matches a single character in the listed set\n",
    "[^XYZ]   Matches a single character not in the listed set\n",
    "[a-z0-9] The set of characters can include a range\n",
    "(        Indicates where string extraction is to start\n",
    ")        Indicates where string extraction is to end\n",
    "```\n"
   ]
  },
  {
   "cell_type": "markdown",
   "metadata": {},
   "source": [
    "##### Exercise 1: Write a simple program to simulate the operation of the grep command on Unix. Ask the user to enter a regular expression and count the number of lines that matched the regular expression:"
   ]
  },
  {
   "cell_type": "code",
   "execution_count": 12,
   "metadata": {},
   "outputs": [
    {
     "name": "stdout",
     "output_type": "stream",
     "text": [
      "From\n",
      "From\n",
      "From\n",
      "From\n",
      "From\n",
      "From\n",
      "From\n",
      "From\n",
      "From\n",
      "From\n",
      "From\n",
      "From\n",
      "From\n",
      "From\n",
      "From\n",
      "From\n",
      "From\n",
      "From\n",
      "From\n",
      "From\n",
      "From\n",
      "From\n",
      "From\n",
      "From\n",
      "From\n",
      "From\n",
      "From\n",
      "From\n",
      "From\n",
      "From\n",
      "From\n",
      "From\n",
      "From\n",
      "From\n",
      "From\n",
      "From\n",
      "From\n",
      "From\n",
      "From\n",
      "From\n",
      "From\n",
      "From\n",
      "From\n",
      "From\n",
      "From\n",
      "From\n",
      "From\n",
      "From\n",
      "From\n",
      "From\n",
      "From\n",
      "From\n",
      "From\n",
      "From\n",
      "You have  54 lines that match\n",
      "This aint no file >:c\n"
     ]
    }
   ],
   "source": [
    "exercise = \"Exercise 11.1\"\n",
    "\n",
    "### Start Code Here ###\n",
    "import re\n",
    "fhand = input(\"Please enter a file: \")\n",
    "while True:\n",
    "    try:\n",
    "        fhand = open(fhand)\n",
    "    except:\n",
    "        print(\"This aint no file >:c\")\n",
    "        break\n",
    "    count = 0\n",
    "    cmd = input(\"Enter a regular expression: \")\n",
    "    if cmd == \"Done\" or cmd == \"done\":\n",
    "        break\n",
    "    for line in fhand:\n",
    "        if len(re.findall(cmd, line)) > 0:\n",
    "            print(re.findall(cmd, line)[0])\n",
    "            count += 1\n",
    "    print(\"You have \", count, \"lines that match\")\n",
    "### End Code Here ###"
   ]
  },
  {
   "cell_type": "markdown",
   "metadata": {},
   "source": [
    "##### Exercise 2: Write a program to look for lines in the mbox files of the form:\n",
    "\n",
    "New Revision: 39772\n",
    "##### Extract the number from each of the lines using a regular expression and the findall() method. Compute the average of the numbers and print out the average as an integer."
   ]
  },
  {
   "cell_type": "code",
   "execution_count": 22,
   "metadata": {},
   "outputs": [
    {
     "name": "stdout",
     "output_type": "stream",
     "text": [
      "There are  27  lines with this expression\n",
      "The average of the numbers are 39756\n"
     ]
    }
   ],
   "source": [
    "exercise = 'Exercise 11.2'\n",
    "\n",
    "### Start Code Here ###\n",
    "count = 0\n",
    "num = 0\n",
    "import re\n",
    "try:\n",
    "    fhand = open(input(\"Please enter a file: \"))\n",
    "except:\n",
    "    print(\"This aint no file >:c\")\n",
    "for line in fhand:\n",
    "    if len(re.findall(\"^New Revision: ([0-9])*\", line)) > 0:\n",
    "        num += int(re.findall(\"^New Revision: ([0-9]*)\", line)[0])\n",
    "        count += 1\n",
    "average = num//count\n",
    "print(\"There are \", count, \" lines with this expression\")\n",
    "print(\"The average of the numbers are\", average)\n",
    "### End Code Here ###"
   ]
  },
  {
   "cell_type": "markdown",
   "metadata": {},
   "source": [
    "##### Exercise 3:  Write a program to look for lines in the form of Received: from murder (mail.umich.edu [141.211.14.90])\n",
    "##### Build a dictionary that uses the domain name as the key and the IP address as the value.  If the IP address already exists in the dictionary it can be discarded."
   ]
  },
  {
   "cell_type": "code",
   "execution_count": null,
   "metadata": {},
   "outputs": [],
   "source": [
    "exercise = 'Exercise 11.3'\n",
    "\n",
    "### Start Code Here ###\n",
    "\n",
    "### End Code Here ###"
   ]
  }
 ],
 "metadata": {
  "kernelspec": {
   "display_name": "Python 3",
   "language": "python",
   "name": "python3"
  },
  "language_info": {
   "codemirror_mode": {
    "name": "ipython",
    "version": 3
   },
   "file_extension": ".py",
   "mimetype": "text/x-python",
   "name": "python",
   "nbconvert_exporter": "python",
   "pygments_lexer": "ipython3",
   "version": "3.12.1"
  }
 },
 "nbformat": 4,
 "nbformat_minor": 2
}
