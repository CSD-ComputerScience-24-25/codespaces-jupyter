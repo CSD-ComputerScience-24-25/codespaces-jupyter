{
 "cells": [
  {
   "cell_type": "markdown",
   "metadata": {},
   "source": [
    "##### Exercise 1: Write a simple program to simulate the operation of the grep command on Unix. Ask the user to enter a regular expression and count the number of lines that matched the regular expression:"
   ]
  },
  {
   "cell_type": "code",
   "execution_count": null,
   "metadata": {},
   "outputs": [],
   "source": [
    "exercise = \"Exercise 11.1\"\n",
    "\n",
    "### Start Code Here ###\n",
    "\n",
    "### End Code Here ###"
   ]
  },
  {
   "cell_type": "markdown",
   "metadata": {},
   "source": [
    "##### Exercise 2: Write a program to look for lines in the mbox files of the form:\n",
    "\n",
    "New Revision: 39772\n",
    "##### Extract the number from each of the lines using a regular expression and the findall() method. Compute the average of the numbers and print out the average as an integer."
   ]
  },
  {
   "cell_type": "code",
   "execution_count": 1,
   "metadata": {},
   "outputs": [
    {
     "name": "stdout",
     "output_type": "stream",
     "text": [
      "This aint no file >:c\n"
     ]
    }
   ],
   "source": [
    "exercise = 'Exercise 11.2'\n",
    "\n",
    "### Start Code Here ###\n",
    "try:\n",
    "    fhand = open(input(\"Please enter a file: \"))\n",
    "except:\n",
    "    print(\"This aint no file >:c\")\n",
    "if\n",
    "### End Code Here ###"
   ]
  },
  {
   "cell_type": "markdown",
   "metadata": {},
   "source": [
    "##### Exercise 3:  Write a program to look for lines in the form of Received: from murder (mail.umich.edu [141.211.14.90])\n",
    "##### Build a dictionary that uses the domain name as the key and the IP address as the value.  If the IP address already exists in the dictionary it can be discarded."
   ]
  }
 ],
 "metadata": {
  "kernelspec": {
   "display_name": "Python 3",
   "language": "python",
   "name": "python3"
  },
  "language_info": {
   "codemirror_mode": {
    "name": "ipython",
    "version": 3
   },
   "file_extension": ".py",
   "mimetype": "text/x-python",
   "name": "python",
   "nbconvert_exporter": "python",
   "pygments_lexer": "ipython3",
   "version": "3.12.1"
  }
 },
 "nbformat": 4,
 "nbformat_minor": 2
}
