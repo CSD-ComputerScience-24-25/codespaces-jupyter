{
 "cells": [
  {
   "cell_type": "markdown",
   "metadata": {},
   "source": [
    "##### Exercise 1: Write a simple program to simulate the operation of the grep command on Unix. Ask the user to enter a regular expression and count the number of lines that matched the regular expression:"
   ]
  },
  {
   "cell_type": "code",
   "execution_count": 2,
   "metadata": {},
   "outputs": [
    {
     "name": "stdout",
     "output_type": "stream",
     "text": [
      "<re.Match object; span=(0, 31), match='From stephen.marquard@uct.ac.za'>\n",
      "<re.Match object; span=(0, 29), match='From louis@media.berkeley.edu'>\n",
      "<re.Match object; span=(0, 20), match='From zqian@umich.edu'>\n",
      "<re.Match object; span=(0, 21), match='From rjlowe@iupui.edu'>\n",
      "<re.Match object; span=(0, 20), match='From zqian@umich.edu'>\n",
      "<re.Match object; span=(0, 21), match='From rjlowe@iupui.edu'>\n",
      "<re.Match object; span=(0, 19), match='From cwen@iupui.edu'>\n",
      "<re.Match object; span=(0, 19), match='From cwen@iupui.edu'>\n",
      "<re.Match object; span=(0, 22), match='From gsilver@umich.edu'>\n",
      "<re.Match object; span=(0, 22), match='From gsilver@umich.edu'>\n",
      "<re.Match object; span=(0, 20), match='From zqian@umich.edu'>\n",
      "<re.Match object; span=(0, 22), match='From gsilver@umich.edu'>\n",
      "<re.Match object; span=(0, 23), match='From wagnermr@iupui.edu'>\n",
      "<re.Match object; span=(0, 20), match='From zqian@umich.edu'>\n",
      "<re.Match object; span=(0, 29), match='From antranig@caret.cam.ac.uk'>\n",
      "<re.Match object; span=(0, 34), match='From gopal.ramasammycook@gmail.com'>\n",
      "<re.Match object; span=(0, 28), match='From david.horwitz@uct.ac.za'>\n",
      "<re.Match object; span=(0, 28), match='From david.horwitz@uct.ac.za'>\n",
      "<re.Match object; span=(0, 28), match='From david.horwitz@uct.ac.za'>\n",
      "<re.Match object; span=(0, 28), match='From david.horwitz@uct.ac.za'>\n",
      "<re.Match object; span=(0, 31), match='From stephen.marquard@uct.ac.za'>\n",
      "<re.Match object; span=(0, 29), match='From louis@media.berkeley.edu'>\n",
      "<re.Match object; span=(0, 29), match='From louis@media.berkeley.edu'>\n",
      "<re.Match object; span=(0, 27), match='From ray@media.berkeley.edu'>\n",
      "<re.Match object; span=(0, 19), match='From cwen@iupui.edu'>\n",
      "<re.Match object; span=(0, 19), match='From cwen@iupui.edu'>\n",
      "<re.Match object; span=(0, 19), match='From cwen@iupui.edu'>\n",
      "You have  27 lines that match\n"
     ]
    }
   ],
   "source": [
    "exercise = \"Exercise 11.1\"\n",
    "\n",
    "### Start Code Here ###\n",
    "import re\n",
    "try:\n",
    "    fhand = open(input(\"Please enter a file: \"))\n",
    "except:\n",
    "    print(\"This aint no file >:c\")\n",
    "count = 0\n",
    "cmd = input(\"Enter a regular expression: \")\n",
    "for line in fhand:\n",
    "    if re.search(cmd, line) != None:\n",
    "        print(re.search(cmd, line))\n",
    "        count += 1\n",
    "print(\"You have \", count, \"lines that match\")\n",
    "### End Code Here ###"
   ]
  },
  {
   "cell_type": "markdown",
   "metadata": {},
   "source": [
    "##### Exercise 2: Write a program to look for lines in the mbox files of the form:\n",
    "\n",
    "New Revision: 39772\n",
    "##### Extract the number from each of the lines using a regular expression and the findall() method. Compute the average of the numbers and print out the average as an integer."
   ]
  },
  {
   "cell_type": "code",
   "execution_count": 11,
   "metadata": {},
   "outputs": [
    {
     "ename": "TypeError",
     "evalue": "expected string or bytes-like object, got '_io.TextIOWrapper'",
     "output_type": "error",
     "traceback": [
      "\u001b[0;31m---------------------------------------------------------------------------\u001b[0m",
      "\u001b[0;31mTypeError\u001b[0m                                 Traceback (most recent call last)",
      "Cell \u001b[0;32mIn[11], line 9\u001b[0m\n\u001b[1;32m      7\u001b[0m \u001b[38;5;28;01mexcept\u001b[39;00m:\n\u001b[1;32m      8\u001b[0m     \u001b[38;5;28mprint\u001b[39m(\u001b[38;5;124m\"\u001b[39m\u001b[38;5;124mThis aint no file >:c\u001b[39m\u001b[38;5;124m\"\u001b[39m)\n\u001b[0;32m----> 9\u001b[0m ahh \u001b[38;5;241m=\u001b[39m \u001b[43mre\u001b[49m\u001b[38;5;241;43m.\u001b[39;49m\u001b[43mfindall\u001b[49m\u001b[43m(\u001b[49m\u001b[38;5;124;43m\"\u001b[39;49m\u001b[38;5;124;43mNew Revision\u001b[39;49m\u001b[38;5;124;43m\"\u001b[39;49m\u001b[43m,\u001b[49m\u001b[43m \u001b[49m\u001b[43mfhand\u001b[49m\u001b[43m)\u001b[49m\n\u001b[1;32m     10\u001b[0m \u001b[38;5;28mprint\u001b[39m(ahh)\n\u001b[1;32m     11\u001b[0m \u001b[38;5;66;03m### End Code Here ###\u001b[39;00m\n",
      "File \u001b[0;32m/usr/local/python/3.12.1/lib/python3.12/re/__init__.py:217\u001b[0m, in \u001b[0;36mfindall\u001b[0;34m(pattern, string, flags)\u001b[0m\n\u001b[1;32m    209\u001b[0m \u001b[38;5;28;01mdef\u001b[39;00m \u001b[38;5;21mfindall\u001b[39m(pattern, string, flags\u001b[38;5;241m=\u001b[39m\u001b[38;5;241m0\u001b[39m):\n\u001b[1;32m    210\u001b[0m \u001b[38;5;250m    \u001b[39m\u001b[38;5;124;03m\"\"\"Return a list of all non-overlapping matches in the string.\u001b[39;00m\n\u001b[1;32m    211\u001b[0m \n\u001b[1;32m    212\u001b[0m \u001b[38;5;124;03m    If one or more capturing groups are present in the pattern, return\u001b[39;00m\n\u001b[0;32m   (...)\u001b[0m\n\u001b[1;32m    215\u001b[0m \n\u001b[1;32m    216\u001b[0m \u001b[38;5;124;03m    Empty matches are included in the result.\"\"\"\u001b[39;00m\n\u001b[0;32m--> 217\u001b[0m     \u001b[38;5;28;01mreturn\u001b[39;00m \u001b[43m_compile\u001b[49m\u001b[43m(\u001b[49m\u001b[43mpattern\u001b[49m\u001b[43m,\u001b[49m\u001b[43m \u001b[49m\u001b[43mflags\u001b[49m\u001b[43m)\u001b[49m\u001b[38;5;241;43m.\u001b[39;49m\u001b[43mfindall\u001b[49m\u001b[43m(\u001b[49m\u001b[43mstring\u001b[49m\u001b[43m)\u001b[49m\n",
      "\u001b[0;31mTypeError\u001b[0m: expected string or bytes-like object, got '_io.TextIOWrapper'"
     ]
    }
   ],
   "source": [
    "exercise = 'Exercise 11.2'\n",
    "\n",
    "### Start Code Here ###\n",
    "import re\n",
    "try:\n",
    "    fhand = open(input(\"Please enter a file: \"))\n",
    "except:\n",
    "    print(\"This aint no file >:c\")\n",
    "ahh = re.findall(\"New Revision\", fhand)\n",
    "print(ahh)\n",
    "### End Code Here ###"
   ]
  },
  {
   "cell_type": "markdown",
   "metadata": {},
   "source": [
    "##### Exercise 3:  Write a program to look for lines in the form of Received: from murder (mail.umich.edu [141.211.14.90])\n",
    "##### Build a dictionary that uses the domain name as the key and the IP address as the value.  If the IP address already exists in the dictionary it can be discarded."
   ]
  },
  {
   "cell_type": "code",
   "execution_count": null,
   "metadata": {},
   "outputs": [],
   "source": [
    "exercise = 'Exercise 11.3'\n",
    "\n",
    "### Start Code Here ###\n",
    "\n",
    "### End Code Here ###"
   ]
  }
 ],
 "metadata": {
  "kernelspec": {
   "display_name": "Python 3",
   "language": "python",
   "name": "python3"
  },
  "language_info": {
   "codemirror_mode": {
    "name": "ipython",
    "version": 3
   },
   "file_extension": ".py",
   "mimetype": "text/x-python",
   "name": "python",
   "nbconvert_exporter": "python",
   "pygments_lexer": "ipython3",
   "version": "3.12.1"
  }
 },
 "nbformat": 4,
 "nbformat_minor": 2
}
